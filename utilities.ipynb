{
  "nbformat": 4,
  "nbformat_minor": 0,
  "metadata": {
    "colab": {
      "name": "utilities.ipynb",
      "provenance": [],
      "collapsed_sections": [],
      "authorship_tag": "ABX9TyP50yjebvzz1GLRDxWqUpXX",
      "include_colab_link": true
    },
    "kernelspec": {
      "name": "python3",
      "display_name": "Python 3"
    }
  },
  "cells": [
    {
      "cell_type": "markdown",
      "metadata": {
        "id": "view-in-github",
        "colab_type": "text"
      },
      "source": [
        "<a href=\"https://colab.research.google.com/github/thisisphume/ETF_Analysis_Testing/blob/main/utilities.ipynb\" target=\"_parent\"><img src=\"https://colab.research.google.com/assets/colab-badge.svg\" alt=\"Open In Colab\"/></a>"
      ]
    },
    {
      "cell_type": "code",
      "metadata": {
        "id": "KjmAGtNeb0jo"
      },
      "source": [
        "# Back up\r\n",
        "price_data = web.get_data_yahoo(etf_list,start = '2014-01-01',end = '2018-05-31')['Adj Close']\r\n",
        "\r\n",
        "### Retrieve stock data\r\n",
        "eft_close = stock_price_retrieval(etf_list, '1356998400',  '1577836800', \"1wk\", \"Adj Close\") #2013-01-01 - 2020-01-01\r\n",
        "print (\"Number of Missing data\")\r\n",
        "print (len(eft_close.isna().any()[eft_close.isna().any() == True]))"
      ],
      "execution_count": null,
      "outputs": []
    },
    {
      "cell_type": "code",
      "metadata": {
        "id": "qSprS-f7bpzR"
      },
      "source": [
        "### Retrieving the stock price\r\n",
        "def stock_price_retrieval(stock_list, start, end, interval, whichprice ):\r\n",
        "  '''\r\n",
        "  https://finance.yahoo.com/quote/GE/history?period1=0&period2=1591920000&interval=1d&filter=history&frequency=1d\r\n",
        "  stock_list: (list) list of stock\r\n",
        "  start     : (str) check the website i.e. \"1267142400\"\r\n",
        "  end       : (str) check the website i.e. \"1546300800\"\r\n",
        "  interval  : (str) \"1d\", \"1wk\"\r\n",
        "  whichprice: (str) \"Adj Close\", \"High\", \"Low\"\r\n",
        "  '''\r\n",
        "\r\n",
        "  ### Setting up the dataframe. We don't care about the GE data but we want the index-date\r\n",
        "  url = 'https://query1.finance.yahoo.com/v7/finance/download/'\\\r\n",
        "          '{}?period1={}&period2={}&interval={}&events=history'.format(\"GE\", start, end, interval)\r\n",
        "  response = requests.get(url)\r\n",
        "  df = pd.read_csv(io.StringIO(response.text), parse_dates=['Date'])\r\n",
        "\r\n",
        "\r\n",
        "  ### Bulk retrieval\r\n",
        "  df_main = df[['Date']]\r\n",
        "\r\n",
        "  for stock in stock_list:\r\n",
        "\r\n",
        "      try:\r\n",
        "        url = 'https://query1.finance.yahoo.com/v7/finance/download/'\\\r\n",
        "            '{}?period1={}&period2={}&interval={}&events=history'.format(stock, start, end, interval)\r\n",
        "        response = requests.get(url)\r\n",
        "        df = pd.read_csv(io.StringIO(response.text), parse_dates=['Date'])\r\n",
        "        \r\n",
        "        \r\n",
        "        temp = df[['Date',whichprice]] \r\n",
        "        temp.columns = ['Date', stock]\r\n",
        "        df_main = pd.merge(df_main, temp, how = 'left' , on = 'Date')  \r\n",
        "      except:\r\n",
        "        print (\"ERROR: \", stock)\r\n",
        "\r\n",
        "  ### Assign index as date\r\n",
        "  df_main.index = df_main.Date\r\n",
        "  df_main = df_main.drop(columns=['Date'])\r\n",
        "\r\n",
        "  return df_main"
      ],
      "execution_count": null,
      "outputs": []
    }
  ]
}