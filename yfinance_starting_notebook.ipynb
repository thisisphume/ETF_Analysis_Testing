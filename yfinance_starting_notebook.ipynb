{
  "nbformat": 4,
  "nbformat_minor": 0,
  "metadata": {
    "colab": {
      "name": "yfinance_starting_notebook.ipynb",
      "provenance": [],
      "authorship_tag": "ABX9TyMRBuH0s2whk05a5HGkRC51",
      "include_colab_link": true
    },
    "kernelspec": {
      "name": "python3",
      "display_name": "Python 3"
    }
  },
  "cells": [
    {
      "cell_type": "markdown",
      "metadata": {
        "id": "view-in-github",
        "colab_type": "text"
      },
      "source": [
        "<a href=\"https://colab.research.google.com/github/thisisphume/ETF_Analysis_Testing/blob/main/yfinance_starting_notebook.ipynb\" target=\"_parent\"><img src=\"https://colab.research.google.com/assets/colab-badge.svg\" alt=\"Open In Colab\"/></a>"
      ]
    },
    {
      "cell_type": "markdown",
      "metadata": {
        "id": "Psp8eu8XHz9i"
      },
      "source": [
        "# Initialize"
      ]
    },
    {
      "cell_type": "code",
      "metadata": {
        "colab": {
          "base_uri": "https://localhost:8080/"
        },
        "id": "DwAY6za4H3Pr",
        "outputId": "7e25d881-c371-4006-a3cb-d5f47024bb8b"
      },
      "source": [
        "!pip install yfinance==0.1.52"
      ],
      "execution_count": 1,
      "outputs": [
        {
          "output_type": "stream",
          "text": [
            "Collecting yfinance==0.1.52\n",
            "  Downloading https://files.pythonhosted.org/packages/55/86/121a975a2dafa153648674db104f2a12a20bf0a4afad5caec0434b2bba91/yfinance-0.1.52.tar.gz\n",
            "Requirement already satisfied: pandas>=0.24 in /usr/local/lib/python3.6/dist-packages (from yfinance==0.1.52) (1.1.5)\n",
            "Requirement already satisfied: numpy>=1.15 in /usr/local/lib/python3.6/dist-packages (from yfinance==0.1.52) (1.19.5)\n",
            "Requirement already satisfied: requests>=2.20 in /usr/local/lib/python3.6/dist-packages (from yfinance==0.1.52) (2.23.0)\n",
            "Requirement already satisfied: multitasking>=0.0.7 in /usr/local/lib/python3.6/dist-packages (from yfinance==0.1.52) (0.0.9)\n",
            "Requirement already satisfied: pytz>=2017.2 in /usr/local/lib/python3.6/dist-packages (from pandas>=0.24->yfinance==0.1.52) (2018.9)\n",
            "Requirement already satisfied: python-dateutil>=2.7.3 in /usr/local/lib/python3.6/dist-packages (from pandas>=0.24->yfinance==0.1.52) (2.8.1)\n",
            "Requirement already satisfied: chardet<4,>=3.0.2 in /usr/local/lib/python3.6/dist-packages (from requests>=2.20->yfinance==0.1.52) (3.0.4)\n",
            "Requirement already satisfied: urllib3!=1.25.0,!=1.25.1,<1.26,>=1.21.1 in /usr/local/lib/python3.6/dist-packages (from requests>=2.20->yfinance==0.1.52) (1.24.3)\n",
            "Requirement already satisfied: idna<3,>=2.5 in /usr/local/lib/python3.6/dist-packages (from requests>=2.20->yfinance==0.1.52) (2.10)\n",
            "Requirement already satisfied: certifi>=2017.4.17 in /usr/local/lib/python3.6/dist-packages (from requests>=2.20->yfinance==0.1.52) (2020.12.5)\n",
            "Requirement already satisfied: six>=1.5 in /usr/local/lib/python3.6/dist-packages (from python-dateutil>=2.7.3->pandas>=0.24->yfinance==0.1.52) (1.15.0)\n",
            "Building wheels for collected packages: yfinance\n",
            "  Building wheel for yfinance (setup.py) ... \u001b[?25l\u001b[?25hdone\n",
            "  Created wheel for yfinance: filename=yfinance-0.1.52-py2.py3-none-any.whl size=21996 sha256=f4aa68e3f2a3a9143d612a8b83ba69f5c5d3f7414d42e96154be96b81c572ec6\n",
            "  Stored in directory: /root/.cache/pip/wheels/1b/9d/ce/929e851fc7d649cd962c177220ad985675785aa97c54df5714\n",
            "Successfully built yfinance\n",
            "Installing collected packages: yfinance\n",
            "Successfully installed yfinance-0.1.52\n"
          ],
          "name": "stdout"
        }
      ]
    },
    {
      "cell_type": "markdown",
      "metadata": {
        "id": "WMgFiXhPH5wU"
      },
      "source": [
        "***"
      ]
    },
    {
      "cell_type": "markdown",
      "metadata": {
        "id": "NPMvAfWZFfdx"
      },
      "source": [
        "# Yahoo Finance (yfinance)\r\n",
        "- No Bond and commodities data\r\n",
        "- No high freq data\r\n",
        "- No Bid/Ask"
      ]
    },
    {
      "cell_type": "code",
      "metadata": {
        "id": "-FHB9l1SGRYP"
      },
      "source": [
        "import pandas as pd\r\n",
        "import yfinance as yf\r\n",
        "import matplotlib.pyplot as plt"
      ],
      "execution_count": 2,
      "outputs": []
    },
    {
      "cell_type": "code",
      "metadata": {
        "id": "TwlxtcHcL3Uy"
      },
      "source": [
        "ticker = [\"GE\", \"AAPL\",\"FB\"]"
      ],
      "execution_count": 3,
      "outputs": []
    },
    {
      "cell_type": "code",
      "metadata": {
        "colab": {
          "base_uri": "https://localhost:8080/",
          "height": 377
        },
        "id": "chFk4c6bLqBD",
        "outputId": "cff4a275-ca06-4bbf-c0b2-7d7761785bb1"
      },
      "source": [
        "stock_price = yf.download( ticker, start=\"2020-01-05\", end=\"2020-01-27\"\r\n",
        "                      , period=\"1d\" #1d,5d,1mo,3mo,6mo,1y,2y,5y,10y,ytd,max\r\n",
        "                      , interval =\"1h\" # 1m,2m,5m,15m,30m,60m,90m,1h,1d,5d,1wk,1mo,3mo\r\n",
        "                      )\r\n",
        "stock_price.head(5)"
      ],
      "execution_count": 8,
      "outputs": [
        {
          "output_type": "stream",
          "text": [
            "[*********************100%***********************]  3 of 3 completed\n"
          ],
          "name": "stdout"
        },
        {
          "output_type": "execute_result",
          "data": {
            "text/html": [
              "<div>\n",
              "<style scoped>\n",
              "    .dataframe tbody tr th:only-of-type {\n",
              "        vertical-align: middle;\n",
              "    }\n",
              "\n",
              "    .dataframe tbody tr th {\n",
              "        vertical-align: top;\n",
              "    }\n",
              "\n",
              "    .dataframe thead tr th {\n",
              "        text-align: left;\n",
              "    }\n",
              "\n",
              "    .dataframe thead tr:last-of-type th {\n",
              "        text-align: right;\n",
              "    }\n",
              "</style>\n",
              "<table border=\"1\" class=\"dataframe\">\n",
              "  <thead>\n",
              "    <tr>\n",
              "      <th></th>\n",
              "      <th colspan=\"3\" halign=\"left\">Adj Close</th>\n",
              "      <th colspan=\"3\" halign=\"left\">Close</th>\n",
              "      <th colspan=\"3\" halign=\"left\">High</th>\n",
              "      <th colspan=\"3\" halign=\"left\">Low</th>\n",
              "      <th colspan=\"3\" halign=\"left\">Open</th>\n",
              "      <th colspan=\"3\" halign=\"left\">Volume</th>\n",
              "    </tr>\n",
              "    <tr>\n",
              "      <th></th>\n",
              "      <th>AAPL</th>\n",
              "      <th>FB</th>\n",
              "      <th>GE</th>\n",
              "      <th>AAPL</th>\n",
              "      <th>FB</th>\n",
              "      <th>GE</th>\n",
              "      <th>AAPL</th>\n",
              "      <th>FB</th>\n",
              "      <th>GE</th>\n",
              "      <th>AAPL</th>\n",
              "      <th>FB</th>\n",
              "      <th>GE</th>\n",
              "      <th>AAPL</th>\n",
              "      <th>FB</th>\n",
              "      <th>GE</th>\n",
              "      <th>AAPL</th>\n",
              "      <th>FB</th>\n",
              "      <th>GE</th>\n",
              "    </tr>\n",
              "    <tr>\n",
              "      <th>Date</th>\n",
              "      <th></th>\n",
              "      <th></th>\n",
              "      <th></th>\n",
              "      <th></th>\n",
              "      <th></th>\n",
              "      <th></th>\n",
              "      <th></th>\n",
              "      <th></th>\n",
              "      <th></th>\n",
              "      <th></th>\n",
              "      <th></th>\n",
              "      <th></th>\n",
              "      <th></th>\n",
              "      <th></th>\n",
              "      <th></th>\n",
              "      <th></th>\n",
              "      <th></th>\n",
              "      <th></th>\n",
              "    </tr>\n",
              "  </thead>\n",
              "  <tbody>\n",
              "    <tr>\n",
              "      <th>2020-01-06</th>\n",
              "      <td>297.539001</td>\n",
              "      <td>210.339996</td>\n",
              "      <td>12.1250</td>\n",
              "      <td>297.539001</td>\n",
              "      <td>210.339996</td>\n",
              "      <td>12.1250</td>\n",
              "      <td>297.569702</td>\n",
              "      <td>210.600006</td>\n",
              "      <td>12.21</td>\n",
              "      <td>292.750092</td>\n",
              "      <td>206.520004</td>\n",
              "      <td>11.9100</td>\n",
              "      <td>293.790009</td>\n",
              "      <td>206.699997</td>\n",
              "      <td>11.9150</td>\n",
              "      <td>9414148</td>\n",
              "      <td>4113389</td>\n",
              "      <td>25472111</td>\n",
              "    </tr>\n",
              "    <tr>\n",
              "      <th>2020-01-06</th>\n",
              "      <td>299.209991</td>\n",
              "      <td>210.470001</td>\n",
              "      <td>12.1238</td>\n",
              "      <td>299.209991</td>\n",
              "      <td>210.470001</td>\n",
              "      <td>12.1238</td>\n",
              "      <td>299.579010</td>\n",
              "      <td>210.630005</td>\n",
              "      <td>12.18</td>\n",
              "      <td>296.566010</td>\n",
              "      <td>209.570007</td>\n",
              "      <td>12.1000</td>\n",
              "      <td>297.559998</td>\n",
              "      <td>210.350006</td>\n",
              "      <td>12.1236</td>\n",
              "      <td>4789788</td>\n",
              "      <td>1810758</td>\n",
              "      <td>10745643</td>\n",
              "    </tr>\n",
              "    <tr>\n",
              "      <th>2020-01-06</th>\n",
              "      <td>297.869995</td>\n",
              "      <td>210.740005</td>\n",
              "      <td>12.0745</td>\n",
              "      <td>297.869995</td>\n",
              "      <td>210.740005</td>\n",
              "      <td>12.0745</td>\n",
              "      <td>299.640015</td>\n",
              "      <td>211.059998</td>\n",
              "      <td>12.14</td>\n",
              "      <td>297.140015</td>\n",
              "      <td>210.434998</td>\n",
              "      <td>12.0002</td>\n",
              "      <td>299.200012</td>\n",
              "      <td>210.440002</td>\n",
              "      <td>12.1400</td>\n",
              "      <td>3397100</td>\n",
              "      <td>2101788</td>\n",
              "      <td>10404049</td>\n",
              "    </tr>\n",
              "    <tr>\n",
              "      <th>2020-01-06</th>\n",
              "      <td>298.750000</td>\n",
              "      <td>211.139999</td>\n",
              "      <td>12.0750</td>\n",
              "      <td>298.750000</td>\n",
              "      <td>211.139999</td>\n",
              "      <td>12.0750</td>\n",
              "      <td>298.880005</td>\n",
              "      <td>211.139999</td>\n",
              "      <td>12.10</td>\n",
              "      <td>297.640015</td>\n",
              "      <td>210.039993</td>\n",
              "      <td>12.0500</td>\n",
              "      <td>297.880005</td>\n",
              "      <td>210.778000</td>\n",
              "      <td>12.0750</td>\n",
              "      <td>2042135</td>\n",
              "      <td>1358030</td>\n",
              "      <td>7085691</td>\n",
              "    </tr>\n",
              "    <tr>\n",
              "      <th>2020-01-06</th>\n",
              "      <td>299.386200</td>\n",
              "      <td>211.406494</td>\n",
              "      <td>12.0150</td>\n",
              "      <td>299.386200</td>\n",
              "      <td>211.406494</td>\n",
              "      <td>12.0150</td>\n",
              "      <td>299.959991</td>\n",
              "      <td>211.550003</td>\n",
              "      <td>12.08</td>\n",
              "      <td>298.720001</td>\n",
              "      <td>210.810104</td>\n",
              "      <td>11.9400</td>\n",
              "      <td>298.769989</td>\n",
              "      <td>211.149994</td>\n",
              "      <td>12.0753</td>\n",
              "      <td>2651051</td>\n",
              "      <td>1288072</td>\n",
              "      <td>12896933</td>\n",
              "    </tr>\n",
              "  </tbody>\n",
              "</table>\n",
              "</div>"
            ],
            "text/plain": [
              "             Adj Close                       ...   Volume                   \n",
              "                  AAPL          FB       GE  ...     AAPL       FB        GE\n",
              "Date                                         ...                            \n",
              "2020-01-06  297.539001  210.339996  12.1250  ...  9414148  4113389  25472111\n",
              "2020-01-06  299.209991  210.470001  12.1238  ...  4789788  1810758  10745643\n",
              "2020-01-06  297.869995  210.740005  12.0745  ...  3397100  2101788  10404049\n",
              "2020-01-06  298.750000  211.139999  12.0750  ...  2042135  1358030   7085691\n",
              "2020-01-06  299.386200  211.406494  12.0150  ...  2651051  1288072  12896933\n",
              "\n",
              "[5 rows x 18 columns]"
            ]
          },
          "metadata": {
            "tags": []
          },
          "execution_count": 8
        }
      ]
    },
    {
      "cell_type": "code",
      "metadata": {
        "colab": {
          "base_uri": "https://localhost:8080/",
          "height": 302
        },
        "id": "P5VMRHPfodfj",
        "outputId": "667adb26-38cc-4722-d787-4f33e7f897df"
      },
      "source": [
        "stock_price['Adj Close'].plot()"
      ],
      "execution_count": 9,
      "outputs": [
        {
          "output_type": "execute_result",
          "data": {
            "text/plain": [
              "<matplotlib.axes._subplots.AxesSubplot at 0x7f101adbfc18>"
            ]
          },
          "metadata": {
            "tags": []
          },
          "execution_count": 9
        },
        {
          "output_type": "display_data",
          "data": {
            "image/png": "[encoded data removed]",
            "text/plain": [
              "<Figure size 432x288 with 1 Axes>"
            ]
          },
          "metadata": {
            "tags": [],
            "needs_background": "light"
          }
        }
      ]
    },
    {
      "cell_type": "code",
      "metadata": {
        "colab": {
          "base_uri": "https://localhost:8080/",
          "height": 394
        },
        "id": "FaGfLekmHqY0",
        "outputId": "49441065-7a1f-4626-dd16-9f3e27f6225f"
      },
      "source": [
        "stock_price = yf.download( ticker, start=\"2020-01-05\", end=\"2020-01-27\", group_by=\"Ticker\")\r\n",
        "stock_price.head(5)"
      ],
      "execution_count": 5,
      "outputs": [
        {
          "output_type": "stream",
          "text": [
            "[*********************100%***********************]  3 of 3 completed\n"
          ],
          "name": "stdout"
        },
        {
          "output_type": "execute_result",
          "data": {
            "text/html": [
              "<div>\n",
              "<style scoped>\n",
              "    .dataframe tbody tr th:only-of-type {\n",
              "        vertical-align: middle;\n",
              "    }\n",
              "\n",
              "    .dataframe tbody tr th {\n",
              "        vertical-align: top;\n",
              "    }\n",
              "\n",
              "    .dataframe thead tr th {\n",
              "        text-align: left;\n",
              "    }\n",
              "\n",
              "    .dataframe thead tr:last-of-type th {\n",
              "        text-align: right;\n",
              "    }\n",
              "</style>\n",
              "<table border=\"1\" class=\"dataframe\">\n",
              "  <thead>\n",
              "    <tr>\n",
              "      <th></th>\n",
              "      <th colspan=\"6\" halign=\"left\">AAPL</th>\n",
              "      <th colspan=\"6\" halign=\"left\">GE</th>\n",
              "      <th colspan=\"6\" halign=\"left\">FB</th>\n",
              "    </tr>\n",
              "    <tr>\n",
              "      <th></th>\n",
              "      <th>Open</th>\n",
              "      <th>High</th>\n",
              "      <th>Low</th>\n",
              "      <th>Close</th>\n",
              "      <th>Adj Close</th>\n",
              "      <th>Volume</th>\n",
              "      <th>Open</th>\n",
              "      <th>High</th>\n",
              "      <th>Low</th>\n",
              "      <th>Close</th>\n",
              "      <th>Adj Close</th>\n",
              "      <th>Volume</th>\n",
              "      <th>Open</th>\n",
              "      <th>High</th>\n",
              "      <th>Low</th>\n",
              "      <th>Close</th>\n",
              "      <th>Adj Close</th>\n",
              "      <th>Volume</th>\n",
              "    </tr>\n",
              "    <tr>\n",
              "      <th>Date</th>\n",
              "      <th></th>\n",
              "      <th></th>\n",
              "      <th></th>\n",
              "      <th></th>\n",
              "      <th></th>\n",
              "      <th></th>\n",
              "      <th></th>\n",
              "      <th></th>\n",
              "      <th></th>\n",
              "      <th></th>\n",
              "      <th></th>\n",
              "      <th></th>\n",
              "      <th></th>\n",
              "      <th></th>\n",
              "      <th></th>\n",
              "      <th></th>\n",
              "      <th></th>\n",
              "      <th></th>\n",
              "    </tr>\n",
              "  </thead>\n",
              "  <tbody>\n",
              "    <tr>\n",
              "      <th>2020-01-06</th>\n",
              "      <td>73.447502</td>\n",
              "      <td>74.989998</td>\n",
              "      <td>73.187500</td>\n",
              "      <td>74.949997</td>\n",
              "      <td>74.308266</td>\n",
              "      <td>118387200</td>\n",
              "      <td>11.84</td>\n",
              "      <td>12.21</td>\n",
              "      <td>11.84</td>\n",
              "      <td>12.14</td>\n",
              "      <td>12.078706</td>\n",
              "      <td>111948700</td>\n",
              "      <td>206.699997</td>\n",
              "      <td>212.779999</td>\n",
              "      <td>206.520004</td>\n",
              "      <td>212.600006</td>\n",
              "      <td>212.600006</td>\n",
              "      <td>17058900</td>\n",
              "    </tr>\n",
              "    <tr>\n",
              "      <th>2020-01-07</th>\n",
              "      <td>74.959999</td>\n",
              "      <td>75.224998</td>\n",
              "      <td>74.370003</td>\n",
              "      <td>74.597504</td>\n",
              "      <td>73.958794</td>\n",
              "      <td>108872000</td>\n",
              "      <td>12.15</td>\n",
              "      <td>12.24</td>\n",
              "      <td>11.92</td>\n",
              "      <td>12.05</td>\n",
              "      <td>11.989160</td>\n",
              "      <td>70579300</td>\n",
              "      <td>212.820007</td>\n",
              "      <td>214.580002</td>\n",
              "      <td>211.750000</td>\n",
              "      <td>213.059998</td>\n",
              "      <td>213.059998</td>\n",
              "      <td>14912400</td>\n",
              "    </tr>\n",
              "    <tr>\n",
              "      <th>2020-01-08</th>\n",
              "      <td>74.290001</td>\n",
              "      <td>76.110001</td>\n",
              "      <td>74.290001</td>\n",
              "      <td>75.797501</td>\n",
              "      <td>75.148521</td>\n",
              "      <td>132079200</td>\n",
              "      <td>11.99</td>\n",
              "      <td>12.05</td>\n",
              "      <td>11.87</td>\n",
              "      <td>11.94</td>\n",
              "      <td>11.879715</td>\n",
              "      <td>55402500</td>\n",
              "      <td>213.000000</td>\n",
              "      <td>216.240005</td>\n",
              "      <td>212.610001</td>\n",
              "      <td>215.220001</td>\n",
              "      <td>215.220001</td>\n",
              "      <td>13475000</td>\n",
              "    </tr>\n",
              "    <tr>\n",
              "      <th>2020-01-09</th>\n",
              "      <td>76.809998</td>\n",
              "      <td>77.607498</td>\n",
              "      <td>76.550003</td>\n",
              "      <td>77.407501</td>\n",
              "      <td>76.744728</td>\n",
              "      <td>170108400</td>\n",
              "      <td>12.07</td>\n",
              "      <td>12.09</td>\n",
              "      <td>11.83</td>\n",
              "      <td>11.91</td>\n",
              "      <td>11.849867</td>\n",
              "      <td>39377100</td>\n",
              "      <td>217.539993</td>\n",
              "      <td>218.380005</td>\n",
              "      <td>216.279999</td>\n",
              "      <td>218.300003</td>\n",
              "      <td>218.300003</td>\n",
              "      <td>12642800</td>\n",
              "    </tr>\n",
              "    <tr>\n",
              "      <th>2020-01-10</th>\n",
              "      <td>77.650002</td>\n",
              "      <td>78.167503</td>\n",
              "      <td>77.062500</td>\n",
              "      <td>77.582497</td>\n",
              "      <td>76.918221</td>\n",
              "      <td>140644800</td>\n",
              "      <td>11.84</td>\n",
              "      <td>11.91</td>\n",
              "      <td>11.59</td>\n",
              "      <td>11.67</td>\n",
              "      <td>11.611078</td>\n",
              "      <td>58652000</td>\n",
              "      <td>219.199997</td>\n",
              "      <td>219.880005</td>\n",
              "      <td>217.419998</td>\n",
              "      <td>218.059998</td>\n",
              "      <td>218.059998</td>\n",
              "      <td>12119400</td>\n",
              "    </tr>\n",
              "  </tbody>\n",
              "</table>\n",
              "</div>"
            ],
            "text/plain": [
              "                 AAPL                        ...          FB                      \n",
              "                 Open       High        Low  ...       Close   Adj Close    Volume\n",
              "Date                                         ...                                  \n",
              "2020-01-06  73.447502  74.989998  73.187500  ...  212.600006  212.600006  17058900\n",
              "2020-01-07  74.959999  75.224998  74.370003  ...  213.059998  213.059998  14912400\n",
              "2020-01-08  74.290001  76.110001  74.290001  ...  215.220001  215.220001  13475000\n",
              "2020-01-09  76.809998  77.607498  76.550003  ...  218.300003  218.300003  12642800\n",
              "2020-01-10  77.650002  78.167503  77.062500  ...  218.059998  218.059998  12119400\n",
              "\n",
              "[5 rows x 18 columns]"
            ]
          },
          "metadata": {
            "tags": []
          },
          "execution_count": 5
        }
      ]
    },
    {
      "cell_type": "markdown",
      "metadata": {
        "id": "w1De7jJiIqjt"
      },
      "source": [
        "## Index Data\r\n",
        "- Use the total return data (including the dividend)"
      ]
    },
    {
      "cell_type": "code",
      "metadata": {
        "colab": {
          "base_uri": "https://localhost:8080/",
          "height": 244
        },
        "id": "pOFNaahMM1Yg",
        "outputId": "3596aed2-b3e4-47a7-dfd8-b7a617e31a88"
      },
      "source": [
        "ticker = [\"^DJI\",\"^GSPC\", \"^DJITR\", \"^SP500TR\"] # \r\n",
        "stock_price = yf.download( ticker, period=\"5y\" #1d,5d,1mo,3mo,6mo,1y,2y,5y,10y,ytd,max\r\n",
        "                      , interval =\"1d\" # 1m,2m,5m,15m,30m,60m,90m,1h,1d,5d,1wk,1mo,3mo\r\n",
        "                      )['Adj Close']\r\n",
        "stock_price.head(5)"
      ],
      "execution_count": 52,
      "outputs": [
        {
          "output_type": "stream",
          "text": [
            "[*********************100%***********************]  4 of 4 completed\n"
          ],
          "name": "stdout"
        },
        {
          "output_type": "execute_result",
          "data": {
            "text/html": [
              "<div>\n",
              "<style scoped>\n",
              "    .dataframe tbody tr th:only-of-type {\n",
              "        vertical-align: middle;\n",
              "    }\n",
              "\n",
              "    .dataframe tbody tr th {\n",
              "        vertical-align: top;\n",
              "    }\n",
              "\n",
              "    .dataframe thead th {\n",
              "        text-align: right;\n",
              "    }\n",
              "</style>\n",
              "<table border=\"1\" class=\"dataframe\">\n",
              "  <thead>\n",
              "    <tr style=\"text-align: right;\">\n",
              "      <th></th>\n",
              "      <th>^DJI</th>\n",
              "      <th>^DJITR</th>\n",
              "      <th>^GSPC</th>\n",
              "      <th>^SP500TR</th>\n",
              "    </tr>\n",
              "    <tr>\n",
              "      <th>Date</th>\n",
              "      <th></th>\n",
              "      <th></th>\n",
              "      <th></th>\n",
              "      <th></th>\n",
              "    </tr>\n",
              "  </thead>\n",
              "  <tbody>\n",
              "    <tr>\n",
              "      <th>2016-01-28</th>\n",
              "      <td>16069.639648</td>\n",
              "      <td>NaN</td>\n",
              "      <td>1893.359985</td>\n",
              "      <td>3544.129883</td>\n",
              "    </tr>\n",
              "    <tr>\n",
              "      <th>2016-01-29</th>\n",
              "      <td>16466.300781</td>\n",
              "      <td>NaN</td>\n",
              "      <td>1940.239990</td>\n",
              "      <td>3631.959961</td>\n",
              "    </tr>\n",
              "    <tr>\n",
              "      <th>2016-02-01</th>\n",
              "      <td>16449.179688</td>\n",
              "      <td>NaN</td>\n",
              "      <td>1939.380005</td>\n",
              "      <td>3630.459961</td>\n",
              "    </tr>\n",
              "    <tr>\n",
              "      <th>2016-02-02</th>\n",
              "      <td>16153.540039</td>\n",
              "      <td>NaN</td>\n",
              "      <td>1903.030029</td>\n",
              "      <td>3562.520020</td>\n",
              "    </tr>\n",
              "    <tr>\n",
              "      <th>2016-02-03</th>\n",
              "      <td>16336.660156</td>\n",
              "      <td>NaN</td>\n",
              "      <td>1912.530029</td>\n",
              "      <td>3581.530029</td>\n",
              "    </tr>\n",
              "  </tbody>\n",
              "</table>\n",
              "</div>"
            ],
            "text/plain": [
              "                    ^DJI  ^DJITR        ^GSPC     ^SP500TR\n",
              "Date                                                      \n",
              "2016-01-28  16069.639648     NaN  1893.359985  3544.129883\n",
              "2016-01-29  16466.300781     NaN  1940.239990  3631.959961\n",
              "2016-02-01  16449.179688     NaN  1939.380005  3630.459961\n",
              "2016-02-02  16153.540039     NaN  1903.030029  3562.520020\n",
              "2016-02-03  16336.660156     NaN  1912.530029  3581.530029"
            ]
          },
          "metadata": {
            "tags": []
          },
          "execution_count": 52
        }
      ]
    },
    {
      "cell_type": "code",
      "metadata": {
        "colab": {
          "base_uri": "https://localhost:8080/",
          "height": 285
        },
        "id": "8Cy83RgaM84M",
        "outputId": "da2f31f6-111a-4df4-e610-6beef6da5ba8"
      },
      "source": [
        "stock_price.div(stock_price.iloc[0]).mul(100).plot()"
      ],
      "execution_count": 53,
      "outputs": [
        {
          "output_type": "execute_result",
          "data": {
            "text/plain": [
              "<matplotlib.axes._subplots.AxesSubplot at 0x7feb35094828>"
            ]
          },
          "metadata": {
            "tags": []
          },
          "execution_count": 53
        },
        {
          "output_type": "display_data",
          "data": {
            "image/png": "[encoded data removed]",
            "text/plain": [
              "<Figure size 432x288 with 1 Axes>"
            ]
          },
          "metadata": {
            "tags": [],
            "needs_background": "light"
          }
        }
      ]
    },
    {
      "cell_type": "markdown",
      "metadata": {
        "id": "KuBatMP3OsDt"
      },
      "source": [
        "## Currencies/FX\r\n",
        "- No volumne data"
      ]
    },
    {
      "cell_type": "code",
      "metadata": {
        "colab": {
          "base_uri": "https://localhost:8080/",
          "height": 302
        },
        "id": "kffGUOUoPbAG",
        "outputId": "652dbd49-3454-49e9-d633-75422b94fab5"
      },
      "source": [
        "ticker = \"EURUSD=X\"  # 1 Euro we get X USD\r\n",
        "ticker2 = \"USDEUR=X\" # 1 USD we get X Euro\r\n",
        "ticker3 = \"USDGBP=X\" # 1 USD we get X GBP\r\n",
        "yf.download( [ticker, ticker2], period=\"5y\")['Adj Close'].plot()"
      ],
      "execution_count": 10,
      "outputs": [
        {
          "output_type": "stream",
          "text": [
            "[*********************100%***********************]  2 of 2 completed\n"
          ],
          "name": "stdout"
        },
        {
          "output_type": "execute_result",
          "data": {
            "text/plain": [
              "<matplotlib.axes._subplots.AxesSubplot at 0x7f101ad13c88>"
            ]
          },
          "metadata": {
            "tags": []
          },
          "execution_count": 10
        },
        {
          "output_type": "display_data",
          "data": {
            "image/png": "[encoded data removed]",
            "text/plain": [
              "<Figure size 432x288 with 1 Axes>"
            ]
          },
          "metadata": {
            "tags": [],
            "needs_background": "light"
          }
        }
      ]
    },
    {
      "cell_type": "code",
      "metadata": {
        "colab": {
          "base_uri": "https://localhost:8080/",
          "height": 244
        },
        "id": "kqk4btG3PiI7",
        "outputId": "a0c72521-d35c-4fcb-ed18-88702de1abff"
      },
      "source": [
        "yf.download( ticker3, period=\"5y\").head(5)"
      ],
      "execution_count": 11,
      "outputs": [
        {
          "output_type": "stream",
          "text": [
            "\r[*********************100%***********************]  1 of 1 completed\n"
          ],
          "name": "stdout"
        },
        {
          "output_type": "execute_result",
          "data": {
            "text/html": [
              "<div>\n",
              "<style scoped>\n",
              "    .dataframe tbody tr th:only-of-type {\n",
              "        vertical-align: middle;\n",
              "    }\n",
              "\n",
              "    .dataframe tbody tr th {\n",
              "        vertical-align: top;\n",
              "    }\n",
              "\n",
              "    .dataframe thead th {\n",
              "        text-align: right;\n",
              "    }\n",
              "</style>\n",
              "<table border=\"1\" class=\"dataframe\">\n",
              "  <thead>\n",
              "    <tr style=\"text-align: right;\">\n",
              "      <th></th>\n",
              "      <th>Open</th>\n",
              "      <th>High</th>\n",
              "      <th>Low</th>\n",
              "      <th>Close</th>\n",
              "      <th>Adj Close</th>\n",
              "      <th>Volume</th>\n",
              "    </tr>\n",
              "    <tr>\n",
              "      <th>Date</th>\n",
              "      <th></th>\n",
              "      <th></th>\n",
              "      <th></th>\n",
              "      <th></th>\n",
              "      <th></th>\n",
              "      <th></th>\n",
              "    </tr>\n",
              "  </thead>\n",
              "  <tbody>\n",
              "    <tr>\n",
              "      <th>2016-01-28</th>\n",
              "      <td>0.70190</td>\n",
              "      <td>0.7022</td>\n",
              "      <td>0.6942</td>\n",
              "      <td>0.70180</td>\n",
              "      <td>0.70180</td>\n",
              "      <td>0</td>\n",
              "    </tr>\n",
              "    <tr>\n",
              "      <th>2016-01-29</th>\n",
              "      <td>0.69638</td>\n",
              "      <td>0.7047</td>\n",
              "      <td>0.6937</td>\n",
              "      <td>0.69628</td>\n",
              "      <td>0.69628</td>\n",
              "      <td>0</td>\n",
              "    </tr>\n",
              "    <tr>\n",
              "      <th>2016-02-01</th>\n",
              "      <td>0.70201</td>\n",
              "      <td>0.7023</td>\n",
              "      <td>0.6955</td>\n",
              "      <td>0.70195</td>\n",
              "      <td>0.70195</td>\n",
              "      <td>0</td>\n",
              "    </tr>\n",
              "    <tr>\n",
              "      <th>2016-02-02</th>\n",
              "      <td>0.69320</td>\n",
              "      <td>0.6977</td>\n",
              "      <td>0.6922</td>\n",
              "      <td>0.69310</td>\n",
              "      <td>0.69310</td>\n",
              "      <td>0</td>\n",
              "    </tr>\n",
              "    <tr>\n",
              "      <th>2016-02-03</th>\n",
              "      <td>0.69403</td>\n",
              "      <td>0.6951</td>\n",
              "      <td>0.6853</td>\n",
              "      <td>0.69400</td>\n",
              "      <td>0.69400</td>\n",
              "      <td>0</td>\n",
              "    </tr>\n",
              "  </tbody>\n",
              "</table>\n",
              "</div>"
            ],
            "text/plain": [
              "               Open    High     Low    Close  Adj Close  Volume\n",
              "Date                                                           \n",
              "2016-01-28  0.70190  0.7022  0.6942  0.70180    0.70180       0\n",
              "2016-01-29  0.69638  0.7047  0.6937  0.69628    0.69628       0\n",
              "2016-02-01  0.70201  0.7023  0.6955  0.70195    0.70195       0\n",
              "2016-02-02  0.69320  0.6977  0.6922  0.69310    0.69310       0\n",
              "2016-02-03  0.69403  0.6951  0.6853  0.69400    0.69400       0"
            ]
          },
          "metadata": {
            "tags": []
          },
          "execution_count": 11
        }
      ]
    },
    {
      "cell_type": "markdown",
      "metadata": {
        "id": "RzZltFmqQJpB"
      },
      "source": [
        "## Cryptocurrencies"
      ]
    },
    {
      "cell_type": "code",
      "metadata": {
        "colab": {
          "base_uri": "https://localhost:8080/",
          "height": 302
        },
        "id": "ujjUuuaZSEnM",
        "outputId": "a7c71bed-5465-4bda-8974-1e851aaa2366"
      },
      "source": [
        "ticker = ['BTC-USD','BTC-EUR','ETH-USD']\r\n",
        "cryp = yf.download( ticker, period=\"5y\")['Adj Close']\r\n",
        "cryp.div(cryp.iloc[0]).mul(100).plot()"
      ],
      "execution_count": 12,
      "outputs": [
        {
          "output_type": "stream",
          "text": [
            "[*********************100%***********************]  3 of 3 completed\n"
          ],
          "name": "stdout"
        },
        {
          "output_type": "execute_result",
          "data": {
            "text/plain": [
              "<matplotlib.axes._subplots.AxesSubplot at 0x7f101a850198>"
            ]
          },
          "metadata": {
            "tags": []
          },
          "execution_count": 12
        },
        {
          "output_type": "display_data",
          "data": {
            "image/png": "[encoded data removed]",
            "text/plain": [
              "<Figure size 432x288 with 1 Axes>"
            ]
          },
          "metadata": {
            "tags": [],
            "needs_background": "light"
          }
        }
      ]
    },
    {
      "cell_type": "markdown",
      "metadata": {
        "id": "3ZwtbP58SJA4"
      },
      "source": [
        "# Mutual Funds & ETFs\r\n",
        "\r\n"
      ]
    },
    {
      "cell_type": "code",
      "metadata": {
        "id": "TsbpXKGbSvB9"
      },
      "source": [
        "tickers = ['TLT' # isahres 20+ year (US) treasury bond ETF \r\n",
        ", 'OMOIX' # vivaldi multi-strategy mutual fund class I\r\n",
        "]"
      ],
      "execution_count": 13,
      "outputs": []
    },
    {
      "cell_type": "code",
      "metadata": {
        "colab": {
          "base_uri": "https://localhost:8080/",
          "height": 302
        },
        "id": "E4gEKMywUBBF",
        "outputId": "d7b927ec-388d-4abd-dfde-e803c3773751"
      },
      "source": [
        "mf = yf.download( tickers, period=\"5y\")['Adj Close']\r\n",
        "mf.div(mf.iloc[0]).mul(100).plot()"
      ],
      "execution_count": 14,
      "outputs": [
        {
          "output_type": "stream",
          "text": [
            "[*********************100%***********************]  2 of 2 completed\n"
          ],
          "name": "stdout"
        },
        {
          "output_type": "execute_result",
          "data": {
            "text/plain": [
              "<matplotlib.axes._subplots.AxesSubplot at 0x7f101a777518>"
            ]
          },
          "metadata": {
            "tags": []
          },
          "execution_count": 14
        },
        {
          "output_type": "display_data",
          "data": {
            "image/png": "[encoded data removed]",
            "text/plain": [
              "<Figure size 432x288 with 1 Axes>"
            ]
          },
          "metadata": {
            "tags": [],
            "needs_background": "light"
          }
        }
      ]
    },
    {
      "cell_type": "markdown",
      "metadata": {
        "id": "UPLx46wPUIIl"
      },
      "source": [
        "# Treasury Yields\r\n",
        "Reporesent the risk free rate"
      ]
    },
    {
      "cell_type": "code",
      "metadata": {
        "colab": {
          "base_uri": "https://localhost:8080/",
          "height": 453
        },
        "id": "8z9sy0YpUZoR",
        "outputId": "82870acb-8fbe-495c-aa47-8e3a11c53fec"
      },
      "source": [
        "ticker = [\"^TNX\" # 10y treasury yield\r\n",
        ", \"^FVX\" # 5y treasury yield\r\n",
        "]\r\n",
        "ty = yf.download( ticker, period=\"5y\")['Adj Close']\r\n",
        "ty"
      ],
      "execution_count": 15,
      "outputs": [
        {
          "output_type": "stream",
          "text": [
            "[*********************100%***********************]  2 of 2 completed\n"
          ],
          "name": "stdout"
        },
        {
          "output_type": "execute_result",
          "data": {
            "text/html": [
              "<div>\n",
              "<style scoped>\n",
              "    .dataframe tbody tr th:only-of-type {\n",
              "        vertical-align: middle;\n",
              "    }\n",
              "\n",
              "    .dataframe tbody tr th {\n",
              "        vertical-align: top;\n",
              "    }\n",
              "\n",
              "    .dataframe thead th {\n",
              "        text-align: right;\n",
              "    }\n",
              "</style>\n",
              "<table border=\"1\" class=\"dataframe\">\n",
              "  <thead>\n",
              "    <tr style=\"text-align: right;\">\n",
              "      <th></th>\n",
              "      <th>^FVX</th>\n",
              "      <th>^TNX</th>\n",
              "    </tr>\n",
              "    <tr>\n",
              "      <th>Date</th>\n",
              "      <th></th>\n",
              "      <th></th>\n",
              "    </tr>\n",
              "  </thead>\n",
              "  <tbody>\n",
              "    <tr>\n",
              "      <th>2016-01-28</th>\n",
              "      <td>1.401</td>\n",
              "      <td>1.985</td>\n",
              "    </tr>\n",
              "    <tr>\n",
              "      <th>2016-01-29</th>\n",
              "      <td>1.335</td>\n",
              "      <td>1.931</td>\n",
              "    </tr>\n",
              "    <tr>\n",
              "      <th>2016-02-01</th>\n",
              "      <td>1.383</td>\n",
              "      <td>1.966</td>\n",
              "    </tr>\n",
              "    <tr>\n",
              "      <th>2016-02-02</th>\n",
              "      <td>1.281</td>\n",
              "      <td>1.864</td>\n",
              "    </tr>\n",
              "    <tr>\n",
              "      <th>2016-02-03</th>\n",
              "      <td>1.273</td>\n",
              "      <td>1.881</td>\n",
              "    </tr>\n",
              "    <tr>\n",
              "      <th>...</th>\n",
              "      <td>...</td>\n",
              "      <td>...</td>\n",
              "    </tr>\n",
              "    <tr>\n",
              "      <th>2021-01-22</th>\n",
              "      <td>0.434</td>\n",
              "      <td>1.091</td>\n",
              "    </tr>\n",
              "    <tr>\n",
              "      <th>2021-01-25</th>\n",
              "      <td>0.410</td>\n",
              "      <td>1.040</td>\n",
              "    </tr>\n",
              "    <tr>\n",
              "      <th>2021-01-26</th>\n",
              "      <td>0.412</td>\n",
              "      <td>1.040</td>\n",
              "    </tr>\n",
              "    <tr>\n",
              "      <th>2021-01-27</th>\n",
              "      <td>0.407</td>\n",
              "      <td>1.014</td>\n",
              "    </tr>\n",
              "    <tr>\n",
              "      <th>2021-01-28</th>\n",
              "      <td>0.426</td>\n",
              "      <td>1.045</td>\n",
              "    </tr>\n",
              "  </tbody>\n",
              "</table>\n",
              "<p>1248 rows × 2 columns</p>\n",
              "</div>"
            ],
            "text/plain": [
              "             ^FVX   ^TNX\n",
              "Date                    \n",
              "2016-01-28  1.401  1.985\n",
              "2016-01-29  1.335  1.931\n",
              "2016-02-01  1.383  1.966\n",
              "2016-02-02  1.281  1.864\n",
              "2016-02-03  1.273  1.881\n",
              "...           ...    ...\n",
              "2021-01-22  0.434  1.091\n",
              "2021-01-25  0.410  1.040\n",
              "2021-01-26  0.412  1.040\n",
              "2021-01-27  0.407  1.014\n",
              "2021-01-28  0.426  1.045\n",
              "\n",
              "[1248 rows x 2 columns]"
            ]
          },
          "metadata": {
            "tags": []
          },
          "execution_count": 15
        }
      ]
    },
    {
      "cell_type": "markdown",
      "metadata": {
        "id": "pi_f2M-CViBT"
      },
      "source": [
        "Today, if we invest in treasury bond note, the expect return in the next 10 year is 1.014% per year."
      ]
    },
    {
      "cell_type": "code",
      "metadata": {
        "colab": {
          "base_uri": "https://localhost:8080/",
          "height": 285
        },
        "id": "rG2QPubGVIZ4",
        "outputId": "aa905b75-cb7b-46be-c688-9b704553378d"
      },
      "source": [
        "ty.plot()"
      ],
      "execution_count": 16,
      "outputs": [
        {
          "output_type": "execute_result",
          "data": {
            "text/plain": [
              "<matplotlib.axes._subplots.AxesSubplot at 0x7f101a7665f8>"
            ]
          },
          "metadata": {
            "tags": []
          },
          "execution_count": 16
        },
        {
          "output_type": "display_data",
          "data": {
            "image/png": "[encoded data removed]",
            "text/plain": [
              "<Figure size 432x288 with 1 Axes>"
            ]
          },
          "metadata": {
            "tags": [],
            "needs_background": "light"
          }
        }
      ]
    },
    {
      "cell_type": "markdown",
      "metadata": {
        "id": "bXd66WRTVijL"
      },
      "source": [
        "the yield curve between 5 year and 10 years TB are almost identical in 2019."
      ]
    },
    {
      "cell_type": "markdown",
      "metadata": {
        "id": "ZNIVxSKtWTmb"
      },
      "source": [
        "# Ticker Object"
      ]
    },
    {
      "cell_type": "code",
      "metadata": {
        "id": "6rv9E3aOWXAd"
      },
      "source": [
        "ticker = \"DIS\"\r\n",
        "dis = yf.Ticker(ticker)"
      ],
      "execution_count": 17,
      "outputs": []
    },
    {
      "cell_type": "code",
      "metadata": {
        "colab": {
          "base_uri": "https://localhost:8080/",
          "height": 437
        },
        "id": "kQ0_Aj1FWYbe",
        "outputId": "dba0f5c3-a40f-41f7-cec0-595984daee82"
      },
      "source": [
        "dis.history(period='5y') # adjust close is auto adjusted"
      ],
      "execution_count": 18,
      "outputs": [
        {
          "output_type": "execute_result",
          "data": {
            "text/html": [
              "<div>\n",
              "<style scoped>\n",
              "    .dataframe tbody tr th:only-of-type {\n",
              "        vertical-align: middle;\n",
              "    }\n",
              "\n",
              "    .dataframe tbody tr th {\n",
              "        vertical-align: top;\n",
              "    }\n",
              "\n",
              "    .dataframe thead th {\n",
              "        text-align: right;\n",
              "    }\n",
              "</style>\n",
              "<table border=\"1\" class=\"dataframe\">\n",
              "  <thead>\n",
              "    <tr style=\"text-align: right;\">\n",
              "      <th></th>\n",
              "      <th>Open</th>\n",
              "      <th>High</th>\n",
              "      <th>Low</th>\n",
              "      <th>Close</th>\n",
              "      <th>Volume</th>\n",
              "      <th>Dividends</th>\n",
              "      <th>Stock Splits</th>\n",
              "    </tr>\n",
              "    <tr>\n",
              "      <th>Date</th>\n",
              "      <th></th>\n",
              "      <th></th>\n",
              "      <th></th>\n",
              "      <th></th>\n",
              "      <th></th>\n",
              "      <th></th>\n",
              "      <th></th>\n",
              "    </tr>\n",
              "  </thead>\n",
              "  <tbody>\n",
              "    <tr>\n",
              "      <th>2016-01-28</th>\n",
              "      <td>89.82</td>\n",
              "      <td>89.82</td>\n",
              "      <td>87.15</td>\n",
              "      <td>88.24</td>\n",
              "      <td>7312700</td>\n",
              "      <td>0.0</td>\n",
              "      <td>0</td>\n",
              "    </tr>\n",
              "    <tr>\n",
              "      <th>2016-01-29</th>\n",
              "      <td>88.88</td>\n",
              "      <td>90.40</td>\n",
              "      <td>88.33</td>\n",
              "      <td>90.40</td>\n",
              "      <td>8211600</td>\n",
              "      <td>0.0</td>\n",
              "      <td>0</td>\n",
              "    </tr>\n",
              "    <tr>\n",
              "      <th>2016-02-01</th>\n",
              "      <td>89.70</td>\n",
              "      <td>90.30</td>\n",
              "      <td>89.34</td>\n",
              "      <td>89.77</td>\n",
              "      <td>7027200</td>\n",
              "      <td>0.0</td>\n",
              "      <td>0</td>\n",
              "    </tr>\n",
              "    <tr>\n",
              "      <th>2016-02-02</th>\n",
              "      <td>88.68</td>\n",
              "      <td>88.84</td>\n",
              "      <td>87.62</td>\n",
              "      <td>87.85</td>\n",
              "      <td>7244400</td>\n",
              "      <td>0.0</td>\n",
              "      <td>0</td>\n",
              "    </tr>\n",
              "    <tr>\n",
              "      <th>2016-02-03</th>\n",
              "      <td>88.78</td>\n",
              "      <td>90.01</td>\n",
              "      <td>87.19</td>\n",
              "      <td>89.76</td>\n",
              "      <td>10878000</td>\n",
              "      <td>0.0</td>\n",
              "      <td>0</td>\n",
              "    </tr>\n",
              "    <tr>\n",
              "      <th>...</th>\n",
              "      <td>...</td>\n",
              "      <td>...</td>\n",
              "      <td>...</td>\n",
              "      <td>...</td>\n",
              "      <td>...</td>\n",
              "      <td>...</td>\n",
              "      <td>...</td>\n",
              "    </tr>\n",
              "    <tr>\n",
              "      <th>2021-01-22</th>\n",
              "      <td>174.00</td>\n",
              "      <td>175.25</td>\n",
              "      <td>171.89</td>\n",
              "      <td>172.78</td>\n",
              "      <td>9517200</td>\n",
              "      <td>0.0</td>\n",
              "      <td>0</td>\n",
              "    </tr>\n",
              "    <tr>\n",
              "      <th>2021-01-25</th>\n",
              "      <td>171.89</td>\n",
              "      <td>173.11</td>\n",
              "      <td>168.77</td>\n",
              "      <td>171.89</td>\n",
              "      <td>7833700</td>\n",
              "      <td>0.0</td>\n",
              "      <td>0</td>\n",
              "    </tr>\n",
              "    <tr>\n",
              "      <th>2021-01-26</th>\n",
              "      <td>173.00</td>\n",
              "      <td>173.35</td>\n",
              "      <td>169.05</td>\n",
              "      <td>169.56</td>\n",
              "      <td>7523200</td>\n",
              "      <td>0.0</td>\n",
              "      <td>0</td>\n",
              "    </tr>\n",
              "    <tr>\n",
              "      <th>2021-01-27</th>\n",
              "      <td>165.01</td>\n",
              "      <td>166.34</td>\n",
              "      <td>160.52</td>\n",
              "      <td>163.03</td>\n",
              "      <td>18221700</td>\n",
              "      <td>0.0</td>\n",
              "      <td>0</td>\n",
              "    </tr>\n",
              "    <tr>\n",
              "      <th>2021-01-28</th>\n",
              "      <td>166.17</td>\n",
              "      <td>169.36</td>\n",
              "      <td>166.09</td>\n",
              "      <td>168.85</td>\n",
              "      <td>3415887</td>\n",
              "      <td>0.0</td>\n",
              "      <td>0</td>\n",
              "    </tr>\n",
              "  </tbody>\n",
              "</table>\n",
              "<p>1260 rows × 7 columns</p>\n",
              "</div>"
            ],
            "text/plain": [
              "              Open    High     Low   Close    Volume  Dividends  Stock Splits\n",
              "Date                                                                         \n",
              "2016-01-28   89.82   89.82   87.15   88.24   7312700        0.0             0\n",
              "2016-01-29   88.88   90.40   88.33   90.40   8211600        0.0             0\n",
              "2016-02-01   89.70   90.30   89.34   89.77   7027200        0.0             0\n",
              "2016-02-02   88.68   88.84   87.62   87.85   7244400        0.0             0\n",
              "2016-02-03   88.78   90.01   87.19   89.76  10878000        0.0             0\n",
              "...            ...     ...     ...     ...       ...        ...           ...\n",
              "2021-01-22  174.00  175.25  171.89  172.78   9517200        0.0             0\n",
              "2021-01-25  171.89  173.11  168.77  171.89   7833700        0.0             0\n",
              "2021-01-26  173.00  173.35  169.05  169.56   7523200        0.0             0\n",
              "2021-01-27  165.01  166.34  160.52  163.03  18221700        0.0             0\n",
              "2021-01-28  166.17  169.36  166.09  168.85   3415887        0.0             0\n",
              "\n",
              "[1260 rows x 7 columns]"
            ]
          },
          "metadata": {
            "tags": []
          },
          "execution_count": 18
        }
      ]
    },
    {
      "cell_type": "markdown",
      "metadata": {
        "id": "EQRF5XcsWmC7"
      },
      "source": [
        "# Fundamentals Data\r\n",
        "- Balance Sheet, Profit & Loss and Cashflow Statement Data \r\n",
        "- Forward P/E\r\n",
        "- Average Volume\r\n",
        "\r\n"
      ]
    },
    {
      "cell_type": "code",
      "metadata": {
        "colab": {
          "base_uri": "https://localhost:8080/"
        },
        "id": "G7hkvLmYZ4TM",
        "outputId": "a3ef70db-c1f4-4bef-ced9-4bd36910a426"
      },
      "source": [
        "!pip install yfinance==0.1.52\r\n",
        "# pip install yfinance==0.1.52 -> with this you should be able to get Balance Sheet, P&L and Cashflow Statement Data"
      ],
      "execution_count": 19,
      "outputs": [
        {
          "output_type": "stream",
          "text": [
            "Requirement already satisfied: yfinance==0.1.52 in /usr/local/lib/python3.6/dist-packages (0.1.52)\n",
            "Requirement already satisfied: pandas>=0.24 in /usr/local/lib/python3.6/dist-packages (from yfinance==0.1.52) (1.1.5)\n",
            "Requirement already satisfied: numpy>=1.15 in /usr/local/lib/python3.6/dist-packages (from yfinance==0.1.52) (1.19.5)\n",
            "Requirement already satisfied: multitasking>=0.0.7 in /usr/local/lib/python3.6/dist-packages (from yfinance==0.1.52) (0.0.9)\n",
            "Requirement already satisfied: requests>=2.20 in /usr/local/lib/python3.6/dist-packages (from yfinance==0.1.52) (2.23.0)\n",
            "Requirement already satisfied: pytz>=2017.2 in /usr/local/lib/python3.6/dist-packages (from pandas>=0.24->yfinance==0.1.52) (2018.9)\n",
            "Requirement already satisfied: python-dateutil>=2.7.3 in /usr/local/lib/python3.6/dist-packages (from pandas>=0.24->yfinance==0.1.52) (2.8.1)\n",
            "Requirement already satisfied: chardet<4,>=3.0.2 in /usr/local/lib/python3.6/dist-packages (from requests>=2.20->yfinance==0.1.52) (3.0.4)\n",
            "Requirement already satisfied: urllib3!=1.25.0,!=1.25.1,<1.26,>=1.21.1 in /usr/local/lib/python3.6/dist-packages (from requests>=2.20->yfinance==0.1.52) (1.24.3)\n",
            "Requirement already satisfied: certifi>=2017.4.17 in /usr/local/lib/python3.6/dist-packages (from requests>=2.20->yfinance==0.1.52) (2020.12.5)\n",
            "Requirement already satisfied: idna<3,>=2.5 in /usr/local/lib/python3.6/dist-packages (from requests>=2.20->yfinance==0.1.52) (2.10)\n",
            "Requirement already satisfied: six>=1.5 in /usr/local/lib/python3.6/dist-packages (from python-dateutil>=2.7.3->pandas>=0.24->yfinance==0.1.52) (1.15.0)\n"
          ],
          "name": "stdout"
        }
      ]
    },
    {
      "cell_type": "code",
      "metadata": {
        "colab": {
          "base_uri": "https://localhost:8080/",
          "height": 797
        },
        "id": "kbV6Li6XZojU",
        "outputId": "06ab81d2-b5f5-433e-a692-d8ab380a3176"
      },
      "source": [
        "dis.quarterly_balance_sheet"
      ],
      "execution_count": 23,
      "outputs": [
        {
          "output_type": "execute_result",
          "data": {
            "text/html": [
              "<div>\n",
              "<style scoped>\n",
              "    .dataframe tbody tr th:only-of-type {\n",
              "        vertical-align: middle;\n",
              "    }\n",
              "\n",
              "    .dataframe tbody tr th {\n",
              "        vertical-align: top;\n",
              "    }\n",
              "\n",
              "    .dataframe thead th {\n",
              "        text-align: right;\n",
              "    }\n",
              "</style>\n",
              "<table border=\"1\" class=\"dataframe\">\n",
              "  <thead>\n",
              "    <tr style=\"text-align: right;\">\n",
              "      <th></th>\n",
              "      <th>2020-10-03</th>\n",
              "      <th>2020-06-27</th>\n",
              "      <th>2020-03-28</th>\n",
              "      <th>2019-12-28</th>\n",
              "    </tr>\n",
              "  </thead>\n",
              "  <tbody>\n",
              "    <tr>\n",
              "      <th>Intangible Assets</th>\n",
              "      <td>1.917300e+10</td>\n",
              "      <td>1.958900e+10</td>\n",
              "      <td>2.203700e+10</td>\n",
              "      <td>2.266900e+10</td>\n",
              "    </tr>\n",
              "    <tr>\n",
              "      <th>Total Liab</th>\n",
              "      <td>1.040370e+11</td>\n",
              "      <td>1.080240e+11</td>\n",
              "      <td>1.023210e+11</td>\n",
              "      <td>9.714600e+10</td>\n",
              "    </tr>\n",
              "    <tr>\n",
              "      <th>Total Stockholder Equity</th>\n",
              "      <td>8.358300e+10</td>\n",
              "      <td>8.586600e+10</td>\n",
              "      <td>9.040700e+10</td>\n",
              "      <td>8.975700e+10</td>\n",
              "    </tr>\n",
              "    <tr>\n",
              "      <th>Minority Interest</th>\n",
              "      <td>1.392900e+10</td>\n",
              "      <td>1.375900e+10</td>\n",
              "      <td>1.356600e+10</td>\n",
              "      <td>1.404500e+10</td>\n",
              "    </tr>\n",
              "    <tr>\n",
              "      <th>Other Current Liab</th>\n",
              "      <td>4.545000e+09</td>\n",
              "      <td>3.707000e+09</td>\n",
              "      <td>4.891000e+09</td>\n",
              "      <td>5.024000e+09</td>\n",
              "    </tr>\n",
              "    <tr>\n",
              "      <th>Total Assets</th>\n",
              "      <td>2.015490e+11</td>\n",
              "      <td>2.076490e+11</td>\n",
              "      <td>2.062940e+11</td>\n",
              "      <td>2.009480e+11</td>\n",
              "    </tr>\n",
              "    <tr>\n",
              "      <th>Common Stock</th>\n",
              "      <td>5.449700e+10</td>\n",
              "      <td>5.438600e+10</td>\n",
              "      <td>5.423000e+10</td>\n",
              "      <td>5.399500e+10</td>\n",
              "    </tr>\n",
              "    <tr>\n",
              "      <th>Other Current Assets</th>\n",
              "      <td>8.750000e+08</td>\n",
              "      <td>8.990000e+08</td>\n",
              "      <td>1.003000e+09</td>\n",
              "      <td>9.380000e+08</td>\n",
              "    </tr>\n",
              "    <tr>\n",
              "      <th>Retained Earnings</th>\n",
              "      <td>3.831500e+10</td>\n",
              "      <td>3.900400e+10</td>\n",
              "      <td>4.372100e+10</td>\n",
              "      <td>4.320200e+10</td>\n",
              "    </tr>\n",
              "    <tr>\n",
              "      <th>Other Liab</th>\n",
              "      <td>2.158100e+10</td>\n",
              "      <td>1.986000e+10</td>\n",
              "      <td>2.082700e+10</td>\n",
              "      <td>2.127000e+10</td>\n",
              "    </tr>\n",
              "    <tr>\n",
              "      <th>Good Will</th>\n",
              "      <td>7.768900e+10</td>\n",
              "      <td>7.723300e+10</td>\n",
              "      <td>8.032000e+10</td>\n",
              "      <td>8.031400e+10</td>\n",
              "    </tr>\n",
              "    <tr>\n",
              "      <th>Treasury Stock</th>\n",
              "      <td>-9.229000e+09</td>\n",
              "      <td>-7.524000e+09</td>\n",
              "      <td>-7.544000e+09</td>\n",
              "      <td>-7.440000e+09</td>\n",
              "    </tr>\n",
              "    <tr>\n",
              "      <th>Other Assets</th>\n",
              "      <td>2.940700e+10</td>\n",
              "      <td>2.974900e+10</td>\n",
              "      <td>3.076800e+10</td>\n",
              "      <td>3.137400e+10</td>\n",
              "    </tr>\n",
              "    <tr>\n",
              "      <th>Cash</th>\n",
              "      <td>1.791400e+10</td>\n",
              "      <td>2.311500e+10</td>\n",
              "      <td>1.433900e+10</td>\n",
              "      <td>6.833000e+09</td>\n",
              "    </tr>\n",
              "    <tr>\n",
              "      <th>Total Current Liabilities</th>\n",
              "      <td>2.662800e+10</td>\n",
              "      <td>3.091700e+10</td>\n",
              "      <td>3.547300e+10</td>\n",
              "      <td>3.479700e+10</td>\n",
              "    </tr>\n",
              "    <tr>\n",
              "      <th>Short Long Term Debt</th>\n",
              "      <td>3.688000e+09</td>\n",
              "      <td>3.489000e+09</td>\n",
              "      <td>4.193000e+09</td>\n",
              "      <td>3.484000e+09</td>\n",
              "    </tr>\n",
              "    <tr>\n",
              "      <th>Other Stockholder Equity</th>\n",
              "      <td>-8.322000e+09</td>\n",
              "      <td>-6.617000e+09</td>\n",
              "      <td>-6.637000e+09</td>\n",
              "      <td>-6.533000e+09</td>\n",
              "    </tr>\n",
              "    <tr>\n",
              "      <th>Property Plant Equipment</th>\n",
              "      <td>3.612600e+10</td>\n",
              "      <td>3.613700e+10</td>\n",
              "      <td>3.671500e+10</td>\n",
              "      <td>3.550300e+10</td>\n",
              "    </tr>\n",
              "    <tr>\n",
              "      <th>Total Current Assets</th>\n",
              "      <td>3.525100e+10</td>\n",
              "      <td>4.133000e+10</td>\n",
              "      <td>3.327400e+10</td>\n",
              "      <td>2.777600e+10</td>\n",
              "    </tr>\n",
              "    <tr>\n",
              "      <th>Long Term Investments</th>\n",
              "      <td>3.903000e+09</td>\n",
              "      <td>3.611000e+09</td>\n",
              "      <td>3.180000e+09</td>\n",
              "      <td>3.312000e+09</td>\n",
              "    </tr>\n",
              "    <tr>\n",
              "      <th>Net Tangible Assets</th>\n",
              "      <td>-1.327900e+10</td>\n",
              "      <td>-1.095600e+10</td>\n",
              "      <td>-1.195000e+10</td>\n",
              "      <td>-1.322600e+10</td>\n",
              "    </tr>\n",
              "    <tr>\n",
              "      <th>Net Receivables</th>\n",
              "      <td>1.270800e+10</td>\n",
              "      <td>1.262200e+10</td>\n",
              "      <td>1.453200e+10</td>\n",
              "      <td>1.710000e+10</td>\n",
              "    </tr>\n",
              "    <tr>\n",
              "      <th>Long Term Debt</th>\n",
              "      <td>5.291700e+10</td>\n",
              "      <td>5.419700e+10</td>\n",
              "      <td>4.277000e+10</td>\n",
              "      <td>3.805700e+10</td>\n",
              "    </tr>\n",
              "    <tr>\n",
              "      <th>Inventory</th>\n",
              "      <td>3.754000e+09</td>\n",
              "      <td>4.694000e+09</td>\n",
              "      <td>3.400000e+09</td>\n",
              "      <td>2.905000e+09</td>\n",
              "    </tr>\n",
              "    <tr>\n",
              "      <th>Accounts Payable</th>\n",
              "      <td>1.266300e+10</td>\n",
              "      <td>1.614400e+10</td>\n",
              "      <td>1.704800e+10</td>\n",
              "      <td>1.892000e+10</td>\n",
              "    </tr>\n",
              "  </tbody>\n",
              "</table>\n",
              "</div>"
            ],
            "text/plain": [
              "                             2020-10-03  ...    2019-12-28\n",
              "Intangible Assets          1.917300e+10  ...  2.266900e+10\n",
              "Total Liab                 1.040370e+11  ...  9.714600e+10\n",
              "Total Stockholder Equity   8.358300e+10  ...  8.975700e+10\n",
              "Minority Interest          1.392900e+10  ...  1.404500e+10\n",
              "Other Current Liab         4.545000e+09  ...  5.024000e+09\n",
              "Total Assets               2.015490e+11  ...  2.009480e+11\n",
              "Common Stock               5.449700e+10  ...  5.399500e+10\n",
              "Other Current Assets       8.750000e+08  ...  9.380000e+08\n",
              "Retained Earnings          3.831500e+10  ...  4.320200e+10\n",
              "Other Liab                 2.158100e+10  ...  2.127000e+10\n",
              "Good Will                  7.768900e+10  ...  8.031400e+10\n",
              "Treasury Stock            -9.229000e+09  ... -7.440000e+09\n",
              "Other Assets               2.940700e+10  ...  3.137400e+10\n",
              "Cash                       1.791400e+10  ...  6.833000e+09\n",
              "Total Current Liabilities  2.662800e+10  ...  3.479700e+10\n",
              "Short Long Term Debt       3.688000e+09  ...  3.484000e+09\n",
              "Other Stockholder Equity  -8.322000e+09  ... -6.533000e+09\n",
              "Property Plant Equipment   3.612600e+10  ...  3.550300e+10\n",
              "Total Current Assets       3.525100e+10  ...  2.777600e+10\n",
              "Long Term Investments      3.903000e+09  ...  3.312000e+09\n",
              "Net Tangible Assets       -1.327900e+10  ... -1.322600e+10\n",
              "Net Receivables            1.270800e+10  ...  1.710000e+10\n",
              "Long Term Debt             5.291700e+10  ...  3.805700e+10\n",
              "Inventory                  3.754000e+09  ...  2.905000e+09\n",
              "Accounts Payable           1.266300e+10  ...  1.892000e+10\n",
              "\n",
              "[25 rows x 4 columns]"
            ]
          },
          "metadata": {
            "tags": []
          },
          "execution_count": 23
        }
      ]
    },
    {
      "cell_type": "code",
      "metadata": {
        "colab": {
          "base_uri": "https://localhost:8080/",
          "height": 617
        },
        "id": "ym_c2b84ZPnL",
        "outputId": "5537f1af-78bd-4405-909a-87920bb983ab"
      },
      "source": [
        "dis.cashflow"
      ],
      "execution_count": 21,
      "outputs": [
        {
          "output_type": "execute_result",
          "data": {
            "text/html": [
              "<div>\n",
              "<style scoped>\n",
              "    .dataframe tbody tr th:only-of-type {\n",
              "        vertical-align: middle;\n",
              "    }\n",
              "\n",
              "    .dataframe tbody tr th {\n",
              "        vertical-align: top;\n",
              "    }\n",
              "\n",
              "    .dataframe thead th {\n",
              "        text-align: right;\n",
              "    }\n",
              "</style>\n",
              "<table border=\"1\" class=\"dataframe\">\n",
              "  <thead>\n",
              "    <tr style=\"text-align: right;\">\n",
              "      <th></th>\n",
              "      <th>2020-10-03</th>\n",
              "      <th>2019-09-28</th>\n",
              "      <th>2018-09-29</th>\n",
              "      <th>2017-09-30</th>\n",
              "    </tr>\n",
              "  </thead>\n",
              "  <tbody>\n",
              "    <tr>\n",
              "      <th>Change To Liabilities</th>\n",
              "      <td>-2.293000e+09</td>\n",
              "      <td>1.910000e+08</td>\n",
              "      <td>2.350000e+08</td>\n",
              "      <td>-3.680000e+08</td>\n",
              "    </tr>\n",
              "    <tr>\n",
              "      <th>Total Cashflows From Investing Activities</th>\n",
              "      <td>-3.637000e+09</td>\n",
              "      <td>-4.118000e+09</td>\n",
              "      <td>-5.336000e+09</td>\n",
              "      <td>-4.111000e+09</td>\n",
              "    </tr>\n",
              "    <tr>\n",
              "      <th>Net Borrowings</th>\n",
              "      <td>1.123300e+10</td>\n",
              "      <td>3.677000e+09</td>\n",
              "      <td>-2.583000e+09</td>\n",
              "      <td>3.703000e+09</td>\n",
              "    </tr>\n",
              "    <tr>\n",
              "      <th>Total Cash From Financing Activities</th>\n",
              "      <td>8.480000e+09</td>\n",
              "      <td>-1.090000e+09</td>\n",
              "      <td>-8.843000e+09</td>\n",
              "      <td>-8.959000e+09</td>\n",
              "    </tr>\n",
              "    <tr>\n",
              "      <th>Change To Operating Activities</th>\n",
              "      <td>-1.570000e+08</td>\n",
              "      <td>9.320000e+08</td>\n",
              "      <td>-9.270000e+08</td>\n",
              "      <td>-5.200000e+07</td>\n",
              "    </tr>\n",
              "    <tr>\n",
              "      <th>Issuance Of Stock</th>\n",
              "      <td>3.050000e+08</td>\n",
              "      <td>3.180000e+08</td>\n",
              "      <td>2.100000e+08</td>\n",
              "      <td>2.760000e+08</td>\n",
              "    </tr>\n",
              "    <tr>\n",
              "      <th>Net Income</th>\n",
              "      <td>-2.864000e+09</td>\n",
              "      <td>1.105400e+10</td>\n",
              "      <td>1.259800e+10</td>\n",
              "      <td>8.980000e+09</td>\n",
              "    </tr>\n",
              "    <tr>\n",
              "      <th>Change In Cash</th>\n",
              "      <td>1.249900e+10</td>\n",
              "      <td>1.300000e+09</td>\n",
              "      <td>9.100000e+07</td>\n",
              "      <td>-6.960000e+08</td>\n",
              "    </tr>\n",
              "    <tr>\n",
              "      <th>Effect Of Exchange Rate</th>\n",
              "      <td>3.800000e+07</td>\n",
              "      <td>-9.800000e+07</td>\n",
              "      <td>-2.500000e+07</td>\n",
              "      <td>3.100000e+07</td>\n",
              "    </tr>\n",
              "    <tr>\n",
              "      <th>Total Cash From Operating Activities</th>\n",
              "      <td>7.618000e+09</td>\n",
              "      <td>6.606000e+09</td>\n",
              "      <td>1.429500e+10</td>\n",
              "      <td>1.234300e+10</td>\n",
              "    </tr>\n",
              "    <tr>\n",
              "      <th>Depreciation</th>\n",
              "      <td>5.345000e+09</td>\n",
              "      <td>4.167000e+09</td>\n",
              "      <td>3.011000e+09</td>\n",
              "      <td>2.782000e+09</td>\n",
              "    </tr>\n",
              "    <tr>\n",
              "      <th>Other Cashflows From Investing Activities</th>\n",
              "      <td>3.850000e+08</td>\n",
              "      <td>1.065900e+10</td>\n",
              "      <td>7.100000e+08</td>\n",
              "      <td>-7.100000e+07</td>\n",
              "    </tr>\n",
              "    <tr>\n",
              "      <th>Dividends Paid</th>\n",
              "      <td>-1.587000e+09</td>\n",
              "      <td>-2.895000e+09</td>\n",
              "      <td>-2.515000e+09</td>\n",
              "      <td>-2.445000e+09</td>\n",
              "    </tr>\n",
              "    <tr>\n",
              "      <th>Change To Inventory</th>\n",
              "      <td>1.400000e+07</td>\n",
              "      <td>-2.230000e+08</td>\n",
              "      <td>-1.700000e+07</td>\n",
              "      <td>-5.000000e+06</td>\n",
              "    </tr>\n",
              "    <tr>\n",
              "      <th>Change To Account Receivables</th>\n",
              "      <td>1.943000e+09</td>\n",
              "      <td>5.500000e+07</td>\n",
              "      <td>-7.200000e+08</td>\n",
              "      <td>1.070000e+08</td>\n",
              "    </tr>\n",
              "    <tr>\n",
              "      <th>Other Cashflows From Financing Activities</th>\n",
              "      <td>-1.471000e+09</td>\n",
              "      <td>-2.190000e+09</td>\n",
              "      <td>-3.780000e+08</td>\n",
              "      <td>-1.125000e+09</td>\n",
              "    </tr>\n",
              "    <tr>\n",
              "      <th>Change To Netincome</th>\n",
              "      <td>5.782000e+09</td>\n",
              "      <td>-2.971000e+09</td>\n",
              "      <td>-4.770000e+08</td>\n",
              "      <td>6.910000e+08</td>\n",
              "    </tr>\n",
              "    <tr>\n",
              "      <th>Capital Expenditures</th>\n",
              "      <td>-4.022000e+09</td>\n",
              "      <td>-4.876000e+09</td>\n",
              "      <td>-4.465000e+09</td>\n",
              "      <td>-3.623000e+09</td>\n",
              "    </tr>\n",
              "    <tr>\n",
              "      <th>Repurchase Of Stock</th>\n",
              "      <td>NaN</td>\n",
              "      <td>NaN</td>\n",
              "      <td>-3.577000e+09</td>\n",
              "      <td>-9.368000e+09</td>\n",
              "    </tr>\n",
              "  </tbody>\n",
              "</table>\n",
              "</div>"
            ],
            "text/plain": [
              "                                             2020-10-03  ...    2017-09-30\n",
              "Change To Liabilities                     -2.293000e+09  ... -3.680000e+08\n",
              "Total Cashflows From Investing Activities -3.637000e+09  ... -4.111000e+09\n",
              "Net Borrowings                             1.123300e+10  ...  3.703000e+09\n",
              "Total Cash From Financing Activities       8.480000e+09  ... -8.959000e+09\n",
              "Change To Operating Activities            -1.570000e+08  ... -5.200000e+07\n",
              "Issuance Of Stock                          3.050000e+08  ...  2.760000e+08\n",
              "Net Income                                -2.864000e+09  ...  8.980000e+09\n",
              "Change In Cash                             1.249900e+10  ... -6.960000e+08\n",
              "Effect Of Exchange Rate                    3.800000e+07  ...  3.100000e+07\n",
              "Total Cash From Operating Activities       7.618000e+09  ...  1.234300e+10\n",
              "Depreciation                               5.345000e+09  ...  2.782000e+09\n",
              "Other Cashflows From Investing Activities  3.850000e+08  ... -7.100000e+07\n",
              "Dividends Paid                            -1.587000e+09  ... -2.445000e+09\n",
              "Change To Inventory                        1.400000e+07  ... -5.000000e+06\n",
              "Change To Account Receivables              1.943000e+09  ...  1.070000e+08\n",
              "Other Cashflows From Financing Activities -1.471000e+09  ... -1.125000e+09\n",
              "Change To Netincome                        5.782000e+09  ...  6.910000e+08\n",
              "Capital Expenditures                      -4.022000e+09  ... -3.623000e+09\n",
              "Repurchase Of Stock                                 NaN  ... -9.368000e+09\n",
              "\n",
              "[19 rows x 4 columns]"
            ]
          },
          "metadata": {
            "tags": []
          },
          "execution_count": 21
        }
      ]
    },
    {
      "cell_type": "code",
      "metadata": {
        "colab": {
          "base_uri": "https://localhost:8080/",
          "height": 193
        },
        "id": "9dfNEWy3YNn9",
        "outputId": "28135be2-65a5-4529-864c-ec704df9f847"
      },
      "source": [
        "pd.DataFrame(pd.Series(dis.info)).T"
      ],
      "execution_count": 26,
      "outputs": [
        {
          "output_type": "execute_result",
          "data": {
            "text/html": [
              "<div>\n",
              "<style scoped>\n",
              "    .dataframe tbody tr th:only-of-type {\n",
              "        vertical-align: middle;\n",
              "    }\n",
              "\n",
              "    .dataframe tbody tr th {\n",
              "        vertical-align: top;\n",
              "    }\n",
              "\n",
              "    .dataframe thead th {\n",
              "        text-align: right;\n",
              "    }\n",
              "</style>\n",
              "<table border=\"1\" class=\"dataframe\">\n",
              "  <thead>\n",
              "    <tr style=\"text-align: right;\">\n",
              "      <th></th>\n",
              "      <th>zip</th>\n",
              "      <th>sector</th>\n",
              "      <th>fullTimeEmployees</th>\n",
              "      <th>longBusinessSummary</th>\n",
              "      <th>city</th>\n",
              "      <th>phone</th>\n",
              "      <th>state</th>\n",
              "      <th>country</th>\n",
              "      <th>companyOfficers</th>\n",
              "      <th>website</th>\n",
              "      <th>maxAge</th>\n",
              "      <th>address1</th>\n",
              "      <th>industry</th>\n",
              "      <th>previousClose</th>\n",
              "      <th>regularMarketOpen</th>\n",
              "      <th>twoHundredDayAverage</th>\n",
              "      <th>trailingAnnualDividendYield</th>\n",
              "      <th>payoutRatio</th>\n",
              "      <th>volume24Hr</th>\n",
              "      <th>regularMarketDayHigh</th>\n",
              "      <th>navPrice</th>\n",
              "      <th>averageDailyVolume10Day</th>\n",
              "      <th>totalAssets</th>\n",
              "      <th>regularMarketPreviousClose</th>\n",
              "      <th>fiftyDayAverage</th>\n",
              "      <th>trailingAnnualDividendRate</th>\n",
              "      <th>open</th>\n",
              "      <th>toCurrency</th>\n",
              "      <th>averageVolume10days</th>\n",
              "      <th>expireDate</th>\n",
              "      <th>yield</th>\n",
              "      <th>algorithm</th>\n",
              "      <th>dividendRate</th>\n",
              "      <th>exDividendDate</th>\n",
              "      <th>beta</th>\n",
              "      <th>circulatingSupply</th>\n",
              "      <th>startDate</th>\n",
              "      <th>regularMarketDayLow</th>\n",
              "      <th>priceHint</th>\n",
              "      <th>currency</th>\n",
              "      <th>...</th>\n",
              "      <th>forwardEps</th>\n",
              "      <th>revenueQuarterlyGrowth</th>\n",
              "      <th>sharesOutstanding</th>\n",
              "      <th>fundInceptionDate</th>\n",
              "      <th>annualReportExpenseRatio</th>\n",
              "      <th>bookValue</th>\n",
              "      <th>sharesShort</th>\n",
              "      <th>sharesPercentSharesOut</th>\n",
              "      <th>fundFamily</th>\n",
              "      <th>lastFiscalYearEnd</th>\n",
              "      <th>heldPercentInstitutions</th>\n",
              "      <th>netIncomeToCommon</th>\n",
              "      <th>trailingEps</th>\n",
              "      <th>lastDividendValue</th>\n",
              "      <th>SandP52WeekChange</th>\n",
              "      <th>priceToBook</th>\n",
              "      <th>heldPercentInsiders</th>\n",
              "      <th>nextFiscalYearEnd</th>\n",
              "      <th>mostRecentQuarter</th>\n",
              "      <th>shortRatio</th>\n",
              "      <th>sharesShortPreviousMonthDate</th>\n",
              "      <th>floatShares</th>\n",
              "      <th>enterpriseValue</th>\n",
              "      <th>threeYearAverageReturn</th>\n",
              "      <th>lastSplitDate</th>\n",
              "      <th>lastSplitFactor</th>\n",
              "      <th>legalType</th>\n",
              "      <th>lastDividendDate</th>\n",
              "      <th>morningStarOverallRating</th>\n",
              "      <th>earningsQuarterlyGrowth</th>\n",
              "      <th>dateShortInterest</th>\n",
              "      <th>pegRatio</th>\n",
              "      <th>lastCapGain</th>\n",
              "      <th>shortPercentOfFloat</th>\n",
              "      <th>sharesShortPriorMonth</th>\n",
              "      <th>impliedSharesOutstanding</th>\n",
              "      <th>category</th>\n",
              "      <th>fiveYearAverageReturn</th>\n",
              "      <th>regularMarketPrice</th>\n",
              "      <th>logo_url</th>\n",
              "    </tr>\n",
              "  </thead>\n",
              "  <tbody>\n",
              "    <tr>\n",
              "      <th>0</th>\n",
              "      <td>91521</td>\n",
              "      <td>Communication Services</td>\n",
              "      <td>203000</td>\n",
              "      <td>The Walt Disney Company, together with its sub...</td>\n",
              "      <td>Burbank</td>\n",
              "      <td>818-560-1000</td>\n",
              "      <td>CA</td>\n",
              "      <td>United States</td>\n",
              "      <td>[]</td>\n",
              "      <td>http://www.thewaltdisneycompany.com</td>\n",
              "      <td>1</td>\n",
              "      <td>500 South Buena Vista Street</td>\n",
              "      <td>Entertainment</td>\n",
              "      <td>163.03</td>\n",
              "      <td>166.17</td>\n",
              "      <td>140.166</td>\n",
              "      <td>0.00539778</td>\n",
              "      <td>None</td>\n",
              "      <td>None</td>\n",
              "      <td>169.36</td>\n",
              "      <td>None</td>\n",
              "      <td>9880514</td>\n",
              "      <td>None</td>\n",
              "      <td>163.03</td>\n",
              "      <td>173.26</td>\n",
              "      <td>0.88</td>\n",
              "      <td>166.17</td>\n",
              "      <td>None</td>\n",
              "      <td>9880514</td>\n",
              "      <td>None</td>\n",
              "      <td>None</td>\n",
              "      <td>None</td>\n",
              "      <td>None</td>\n",
              "      <td>1576195200</td>\n",
              "      <td>1.19958</td>\n",
              "      <td>None</td>\n",
              "      <td>None</td>\n",
              "      <td>166.09</td>\n",
              "      <td>2</td>\n",
              "      <td>USD</td>\n",
              "      <td>...</td>\n",
              "      <td>4.78</td>\n",
              "      <td>None</td>\n",
              "      <td>1814259968</td>\n",
              "      <td>None</td>\n",
              "      <td>None</td>\n",
              "      <td>46.178</td>\n",
              "      <td>20863165</td>\n",
              "      <td>0.0115</td>\n",
              "      <td>None</td>\n",
              "      <td>1601683200</td>\n",
              "      <td>0.65574</td>\n",
              "      <td>-2832000000</td>\n",
              "      <td>-1.588</td>\n",
              "      <td>0.88</td>\n",
              "      <td>0.142253</td>\n",
              "      <td>3.65607</td>\n",
              "      <td>0.00203</td>\n",
              "      <td>1664755200</td>\n",
              "      <td>1601683200</td>\n",
              "      <td>1.47</td>\n",
              "      <td>1606694400</td>\n",
              "      <td>1807968463</td>\n",
              "      <td>365323845632</td>\n",
              "      <td>None</td>\n",
              "      <td>1181692800</td>\n",
              "      <td>10000:9865</td>\n",
              "      <td>None</td>\n",
              "      <td>1576195200</td>\n",
              "      <td>None</td>\n",
              "      <td>None</td>\n",
              "      <td>1609372800</td>\n",
              "      <td>2.54</td>\n",
              "      <td>None</td>\n",
              "      <td>0.0115</td>\n",
              "      <td>20089272</td>\n",
              "      <td>None</td>\n",
              "      <td>None</td>\n",
              "      <td>None</td>\n",
              "      <td>166.17</td>\n",
              "      <td>https://logo.clearbit.com/thewaltdisneycompany...</td>\n",
              "    </tr>\n",
              "  </tbody>\n",
              "</table>\n",
              "<p>1 rows × 122 columns</p>\n",
              "</div>"
            ],
            "text/plain": [
              "     zip  ...                                           logo_url\n",
              "0  91521  ...  https://logo.clearbit.com/thewaltdisneycompany...\n",
              "\n",
              "[1 rows x 122 columns]"
            ]
          },
          "metadata": {
            "tags": []
          },
          "execution_count": 26
        }
      ]
    },
    {
      "cell_type": "code",
      "metadata": {
        "id": "1fYZQ8BaYpOw"
      },
      "source": [
        "df = pd.Series(dis.info, name=\"DIS\").to_frame().T\r\n",
        "ticker = ['MSFT','FB']\r\n",
        "for i in ticker:\r\n",
        "  df.loc[i] = pd.Series(yf.Ticker(i).info)"
      ],
      "execution_count": 94,
      "outputs": []
    },
    {
      "cell_type": "code",
      "metadata": {
        "colab": {
          "base_uri": "https://localhost:8080/",
          "height": 320
        },
        "id": "7c_hW-XEY18_",
        "outputId": "f5da7c0a-8bb9-484c-d4dd-f81613676f23"
      },
      "source": [
        "df"
      ],
      "execution_count": 95,
      "outputs": [
        {
          "output_type": "execute_result",
          "data": {
            "text/html": [
              "<div>\n",
              "<style scoped>\n",
              "    .dataframe tbody tr th:only-of-type {\n",
              "        vertical-align: middle;\n",
              "    }\n",
              "\n",
              "    .dataframe tbody tr th {\n",
              "        vertical-align: top;\n",
              "    }\n",
              "\n",
              "    .dataframe thead th {\n",
              "        text-align: right;\n",
              "    }\n",
              "</style>\n",
              "<table border=\"1\" class=\"dataframe\">\n",
              "  <thead>\n",
              "    <tr style=\"text-align: right;\">\n",
              "      <th></th>\n",
              "      <th>zip</th>\n",
              "      <th>sector</th>\n",
              "      <th>fullTimeEmployees</th>\n",
              "      <th>longBusinessSummary</th>\n",
              "      <th>city</th>\n",
              "      <th>phone</th>\n",
              "      <th>state</th>\n",
              "      <th>country</th>\n",
              "      <th>companyOfficers</th>\n",
              "      <th>website</th>\n",
              "      <th>maxAge</th>\n",
              "      <th>address1</th>\n",
              "      <th>industry</th>\n",
              "      <th>previousClose</th>\n",
              "      <th>regularMarketOpen</th>\n",
              "      <th>twoHundredDayAverage</th>\n",
              "      <th>trailingAnnualDividendYield</th>\n",
              "      <th>payoutRatio</th>\n",
              "      <th>volume24Hr</th>\n",
              "      <th>regularMarketDayHigh</th>\n",
              "      <th>navPrice</th>\n",
              "      <th>averageDailyVolume10Day</th>\n",
              "      <th>totalAssets</th>\n",
              "      <th>regularMarketPreviousClose</th>\n",
              "      <th>fiftyDayAverage</th>\n",
              "      <th>trailingAnnualDividendRate</th>\n",
              "      <th>open</th>\n",
              "      <th>toCurrency</th>\n",
              "      <th>averageVolume10days</th>\n",
              "      <th>expireDate</th>\n",
              "      <th>yield</th>\n",
              "      <th>algorithm</th>\n",
              "      <th>dividendRate</th>\n",
              "      <th>exDividendDate</th>\n",
              "      <th>beta</th>\n",
              "      <th>circulatingSupply</th>\n",
              "      <th>startDate</th>\n",
              "      <th>regularMarketDayLow</th>\n",
              "      <th>priceHint</th>\n",
              "      <th>currency</th>\n",
              "      <th>...</th>\n",
              "      <th>forwardEps</th>\n",
              "      <th>revenueQuarterlyGrowth</th>\n",
              "      <th>sharesOutstanding</th>\n",
              "      <th>fundInceptionDate</th>\n",
              "      <th>annualReportExpenseRatio</th>\n",
              "      <th>bookValue</th>\n",
              "      <th>sharesShort</th>\n",
              "      <th>sharesPercentSharesOut</th>\n",
              "      <th>fundFamily</th>\n",
              "      <th>lastFiscalYearEnd</th>\n",
              "      <th>heldPercentInstitutions</th>\n",
              "      <th>netIncomeToCommon</th>\n",
              "      <th>trailingEps</th>\n",
              "      <th>lastDividendValue</th>\n",
              "      <th>SandP52WeekChange</th>\n",
              "      <th>priceToBook</th>\n",
              "      <th>heldPercentInsiders</th>\n",
              "      <th>nextFiscalYearEnd</th>\n",
              "      <th>mostRecentQuarter</th>\n",
              "      <th>shortRatio</th>\n",
              "      <th>sharesShortPreviousMonthDate</th>\n",
              "      <th>floatShares</th>\n",
              "      <th>enterpriseValue</th>\n",
              "      <th>threeYearAverageReturn</th>\n",
              "      <th>lastSplitDate</th>\n",
              "      <th>lastSplitFactor</th>\n",
              "      <th>legalType</th>\n",
              "      <th>lastDividendDate</th>\n",
              "      <th>morningStarOverallRating</th>\n",
              "      <th>earningsQuarterlyGrowth</th>\n",
              "      <th>dateShortInterest</th>\n",
              "      <th>pegRatio</th>\n",
              "      <th>lastCapGain</th>\n",
              "      <th>shortPercentOfFloat</th>\n",
              "      <th>sharesShortPriorMonth</th>\n",
              "      <th>impliedSharesOutstanding</th>\n",
              "      <th>category</th>\n",
              "      <th>fiveYearAverageReturn</th>\n",
              "      <th>regularMarketPrice</th>\n",
              "      <th>logo_url</th>\n",
              "    </tr>\n",
              "  </thead>\n",
              "  <tbody>\n",
              "    <tr>\n",
              "      <th>DIS</th>\n",
              "      <td>91521</td>\n",
              "      <td>Communication Services</td>\n",
              "      <td>203000</td>\n",
              "      <td>The Walt Disney Company, together with its sub...</td>\n",
              "      <td>Burbank</td>\n",
              "      <td>818-560-1000</td>\n",
              "      <td>CA</td>\n",
              "      <td>United States</td>\n",
              "      <td>[]</td>\n",
              "      <td>http://www.thewaltdisneycompany.com</td>\n",
              "      <td>1</td>\n",
              "      <td>500 South Buena Vista Street</td>\n",
              "      <td>Entertainment</td>\n",
              "      <td>169.56</td>\n",
              "      <td>165.01</td>\n",
              "      <td>139.999</td>\n",
              "      <td>0.0051899</td>\n",
              "      <td>None</td>\n",
              "      <td>None</td>\n",
              "      <td>166.34</td>\n",
              "      <td>None</td>\n",
              "      <td>8490316</td>\n",
              "      <td>None</td>\n",
              "      <td>169.56</td>\n",
              "      <td>172.978</td>\n",
              "      <td>0.88</td>\n",
              "      <td>165.01</td>\n",
              "      <td>None</td>\n",
              "      <td>8490316</td>\n",
              "      <td>None</td>\n",
              "      <td>None</td>\n",
              "      <td>None</td>\n",
              "      <td>NaN</td>\n",
              "      <td>1576195200</td>\n",
              "      <td>1.19958</td>\n",
              "      <td>None</td>\n",
              "      <td>None</td>\n",
              "      <td>160.52</td>\n",
              "      <td>2</td>\n",
              "      <td>USD</td>\n",
              "      <td>...</td>\n",
              "      <td>4.78</td>\n",
              "      <td>None</td>\n",
              "      <td>1814259968</td>\n",
              "      <td>None</td>\n",
              "      <td>None</td>\n",
              "      <td>46.178</td>\n",
              "      <td>20863165</td>\n",
              "      <td>0.0115</td>\n",
              "      <td>None</td>\n",
              "      <td>1601683200</td>\n",
              "      <td>0.65574</td>\n",
              "      <td>-2832000000</td>\n",
              "      <td>-1.588</td>\n",
              "      <td>0.88</td>\n",
              "      <td>0.176031</td>\n",
              "      <td>3.53047</td>\n",
              "      <td>0.00203</td>\n",
              "      <td>1664755200</td>\n",
              "      <td>1601683200</td>\n",
              "      <td>1.47</td>\n",
              "      <td>1606694400</td>\n",
              "      <td>1807968463</td>\n",
              "      <td>365323845632</td>\n",
              "      <td>None</td>\n",
              "      <td>1181692800</td>\n",
              "      <td>10000:9865</td>\n",
              "      <td>None</td>\n",
              "      <td>1576195200</td>\n",
              "      <td>None</td>\n",
              "      <td>NaN</td>\n",
              "      <td>1609372800</td>\n",
              "      <td>2.54</td>\n",
              "      <td>None</td>\n",
              "      <td>0.0115</td>\n",
              "      <td>20089272</td>\n",
              "      <td>None</td>\n",
              "      <td>None</td>\n",
              "      <td>None</td>\n",
              "      <td>165.01</td>\n",
              "      <td>https://logo.clearbit.com/thewaltdisneycompany...</td>\n",
              "    </tr>\n",
              "    <tr>\n",
              "      <th>MSFT</th>\n",
              "      <td>98052-6399</td>\n",
              "      <td>Technology</td>\n",
              "      <td>163000</td>\n",
              "      <td>Microsoft Corporation develops, licenses, and ...</td>\n",
              "      <td>Redmond</td>\n",
              "      <td>425-882-8080</td>\n",
              "      <td>WA</td>\n",
              "      <td>United States</td>\n",
              "      <td>[]</td>\n",
              "      <td>http://www.microsoft.com</td>\n",
              "      <td>1</td>\n",
              "      <td>One Microsoft Way</td>\n",
              "      <td>Software—Infrastructure</td>\n",
              "      <td>232.33</td>\n",
              "      <td>238</td>\n",
              "      <td>213.48</td>\n",
              "      <td>0.00899582</td>\n",
              "      <td>0.329</td>\n",
              "      <td>None</td>\n",
              "      <td>240.44</td>\n",
              "      <td>None</td>\n",
              "      <td>35250366</td>\n",
              "      <td>None</td>\n",
              "      <td>232.33</td>\n",
              "      <td>219.226</td>\n",
              "      <td>2.09</td>\n",
              "      <td>238</td>\n",
              "      <td>None</td>\n",
              "      <td>35250366</td>\n",
              "      <td>None</td>\n",
              "      <td>None</td>\n",
              "      <td>None</td>\n",
              "      <td>2.24</td>\n",
              "      <td>1613520000</td>\n",
              "      <td>None</td>\n",
              "      <td>None</td>\n",
              "      <td>None</td>\n",
              "      <td>230.14</td>\n",
              "      <td>2</td>\n",
              "      <td>USD</td>\n",
              "      <td>...</td>\n",
              "      <td>7.97</td>\n",
              "      <td>None</td>\n",
              "      <td>7560500224</td>\n",
              "      <td>None</td>\n",
              "      <td>None</td>\n",
              "      <td>16.313</td>\n",
              "      <td>39201229</td>\n",
              "      <td>0.0052</td>\n",
              "      <td>None</td>\n",
              "      <td>1593475200</td>\n",
              "      <td>0.71844</td>\n",
              "      <td>51309998080</td>\n",
              "      <td>6.199</td>\n",
              "      <td>0.56</td>\n",
              "      <td>0.176031</td>\n",
              "      <td>14.277</td>\n",
              "      <td>0.00059</td>\n",
              "      <td>1656547200</td>\n",
              "      <td>1609372800</td>\n",
              "      <td>1.44</td>\n",
              "      <td>1606694400</td>\n",
              "      <td>7435677480</td>\n",
              "      <td>1690592215040</td>\n",
              "      <td>None</td>\n",
              "      <td>1045526400</td>\n",
              "      <td>2:1</td>\n",
              "      <td>None</td>\n",
              "      <td>1605657600</td>\n",
              "      <td>None</td>\n",
              "      <td>0.327</td>\n",
              "      <td>1609372800</td>\n",
              "      <td>1.91</td>\n",
              "      <td>None</td>\n",
              "      <td>0.0052</td>\n",
              "      <td>39002778</td>\n",
              "      <td>None</td>\n",
              "      <td>None</td>\n",
              "      <td>None</td>\n",
              "      <td>238</td>\n",
              "      <td>https://logo.clearbit.com/microsoft.com</td>\n",
              "    </tr>\n",
              "    <tr>\n",
              "      <th>FB</th>\n",
              "      <td>94025</td>\n",
              "      <td>Communication Services</td>\n",
              "      <td>56653</td>\n",
              "      <td>Facebook, Inc. develops products that enable p...</td>\n",
              "      <td>Menlo Park</td>\n",
              "      <td>650-543-4800</td>\n",
              "      <td>CA</td>\n",
              "      <td>United States</td>\n",
              "      <td>[]</td>\n",
              "      <td>http://investor.fb.com</td>\n",
              "      <td>1</td>\n",
              "      <td>1601 Willow Road</td>\n",
              "      <td>Internet Content &amp; Information</td>\n",
              "      <td>282.05</td>\n",
              "      <td>282.53</td>\n",
              "      <td>267.128</td>\n",
              "      <td>None</td>\n",
              "      <td>0</td>\n",
              "      <td>None</td>\n",
              "      <td>283.45</td>\n",
              "      <td>None</td>\n",
              "      <td>22413616</td>\n",
              "      <td>None</td>\n",
              "      <td>282.05</td>\n",
              "      <td>269.533</td>\n",
              "      <td>None</td>\n",
              "      <td>282.53</td>\n",
              "      <td>None</td>\n",
              "      <td>22413616</td>\n",
              "      <td>None</td>\n",
              "      <td>None</td>\n",
              "      <td>None</td>\n",
              "      <td>None</td>\n",
              "      <td>None</td>\n",
              "      <td>1.18277</td>\n",
              "      <td>None</td>\n",
              "      <td>None</td>\n",
              "      <td>268.12</td>\n",
              "      <td>2</td>\n",
              "      <td>USD</td>\n",
              "      <td>...</td>\n",
              "      <td>13</td>\n",
              "      <td>None</td>\n",
              "      <td>2403970048</td>\n",
              "      <td>None</td>\n",
              "      <td>None</td>\n",
              "      <td>41.309</td>\n",
              "      <td>23421272</td>\n",
              "      <td>0.0082</td>\n",
              "      <td>None</td>\n",
              "      <td>1577750400</td>\n",
              "      <td>0.79766</td>\n",
              "      <td>25276000256</td>\n",
              "      <td>8.778</td>\n",
              "      <td>None</td>\n",
              "      <td>0.176031</td>\n",
              "      <td>6.58791</td>\n",
              "      <td>0.00632</td>\n",
              "      <td>1640908800</td>\n",
              "      <td>1601424000</td>\n",
              "      <td>1.42</td>\n",
              "      <td>1606694400</td>\n",
              "      <td>2392081634</td>\n",
              "      <td>758884925440</td>\n",
              "      <td>None</td>\n",
              "      <td>None</td>\n",
              "      <td>None</td>\n",
              "      <td>None</td>\n",
              "      <td>None</td>\n",
              "      <td>None</td>\n",
              "      <td>0.288</td>\n",
              "      <td>1609372800</td>\n",
              "      <td>1.53</td>\n",
              "      <td>None</td>\n",
              "      <td>0.0098</td>\n",
              "      <td>23506431</td>\n",
              "      <td>2848290048</td>\n",
              "      <td>None</td>\n",
              "      <td>None</td>\n",
              "      <td>282.53</td>\n",
              "      <td>https://logo.clearbit.com/investor.fb.com</td>\n",
              "    </tr>\n",
              "  </tbody>\n",
              "</table>\n",
              "<p>3 rows × 122 columns</p>\n",
              "</div>"
            ],
            "text/plain": [
              "             zip  ...                                           logo_url\n",
              "DIS        91521  ...  https://logo.clearbit.com/thewaltdisneycompany...\n",
              "MSFT  98052-6399  ...            https://logo.clearbit.com/microsoft.com\n",
              "FB         94025  ...          https://logo.clearbit.com/investor.fb.com\n",
              "\n",
              "[3 rows x 122 columns]"
            ]
          },
          "metadata": {
            "tags": []
          },
          "execution_count": 95
        }
      ]
    },
    {
      "cell_type": "code",
      "metadata": {
        "colab": {
          "base_uri": "https://localhost:8080/"
        },
        "id": "FWs8Bt3fY3F8",
        "outputId": "bf88d82e-e421-45d2-824f-32a35bc51fc1"
      },
      "source": [
        "df.info()"
      ],
      "execution_count": 96,
      "outputs": [
        {
          "output_type": "stream",
          "text": [
            "<class 'pandas.core.frame.DataFrame'>\n",
            "Index: 3 entries, DIS to FB\n",
            "Columns: 122 entries, zip to logo_url\n",
            "dtypes: float64(1), object(121)\n",
            "memory usage: 3.0+ KB\n"
          ],
          "name": "stdout"
        }
      ]
    },
    {
      "cell_type": "markdown",
      "metadata": {
        "id": "HFlZ3cfiY5M7"
      },
      "source": [
        "# Options"
      ]
    },
    {
      "cell_type": "code",
      "metadata": {
        "id": "leOW7uiYaJcM"
      },
      "source": [
        "calls = dis.option_chain()[0]\r\n",
        "puts =  dis.option_chain()[1]"
      ],
      "execution_count": 114,
      "outputs": []
    },
    {
      "cell_type": "markdown",
      "metadata": {
        "id": "wN1dmW_oae_k"
      },
      "source": [
        "DIS210129C00090000: \r\n",
        "contract symbol = DIS\r\n",
        "maturity date = 2021 01 29\r\n",
        "C = Call option\r\n",
        "90 = strike price"
      ]
    },
    {
      "cell_type": "code",
      "metadata": {
        "colab": {
          "base_uri": "https://localhost:8080/",
          "height": 301
        },
        "id": "a5gthFymaLlI",
        "outputId": "ab912052-d608-4063-8019-ed866e01d8e7"
      },
      "source": [
        "calls.head()"
      ],
      "execution_count": 116,
      "outputs": [
        {
          "output_type": "execute_result",
          "data": {
            "text/html": [
              "<div>\n",
              "<style scoped>\n",
              "    .dataframe tbody tr th:only-of-type {\n",
              "        vertical-align: middle;\n",
              "    }\n",
              "\n",
              "    .dataframe tbody tr th {\n",
              "        vertical-align: top;\n",
              "    }\n",
              "\n",
              "    .dataframe thead th {\n",
              "        text-align: right;\n",
              "    }\n",
              "</style>\n",
              "<table border=\"1\" class=\"dataframe\">\n",
              "  <thead>\n",
              "    <tr style=\"text-align: right;\">\n",
              "      <th></th>\n",
              "      <th>contractSymbol</th>\n",
              "      <th>lastTradeDate</th>\n",
              "      <th>strike</th>\n",
              "      <th>lastPrice</th>\n",
              "      <th>bid</th>\n",
              "      <th>ask</th>\n",
              "      <th>change</th>\n",
              "      <th>percentChange</th>\n",
              "      <th>volume</th>\n",
              "      <th>openInterest</th>\n",
              "      <th>impliedVolatility</th>\n",
              "      <th>inTheMoney</th>\n",
              "      <th>contractSize</th>\n",
              "      <th>currency</th>\n",
              "    </tr>\n",
              "  </thead>\n",
              "  <tbody>\n",
              "    <tr>\n",
              "      <th>0</th>\n",
              "      <td>DIS210129C00090000</td>\n",
              "      <td>2021-01-21 20:50:01</td>\n",
              "      <td>90.0</td>\n",
              "      <td>81.60</td>\n",
              "      <td>72.30</td>\n",
              "      <td>73.9</td>\n",
              "      <td>0.0</td>\n",
              "      <td>0.0</td>\n",
              "      <td>5.0</td>\n",
              "      <td>9</td>\n",
              "      <td>3.281252</td>\n",
              "      <td>True</td>\n",
              "      <td>REGULAR</td>\n",
              "      <td>USD</td>\n",
              "    </tr>\n",
              "    <tr>\n",
              "      <th>1</th>\n",
              "      <td>DIS210129C00095000</td>\n",
              "      <td>2021-01-20 16:07:25</td>\n",
              "      <td>95.0</td>\n",
              "      <td>79.10</td>\n",
              "      <td>67.30</td>\n",
              "      <td>68.9</td>\n",
              "      <td>0.0</td>\n",
              "      <td>0.0</td>\n",
              "      <td>NaN</td>\n",
              "      <td>1</td>\n",
              "      <td>3.015627</td>\n",
              "      <td>True</td>\n",
              "      <td>REGULAR</td>\n",
              "      <td>USD</td>\n",
              "    </tr>\n",
              "    <tr>\n",
              "      <th>2</th>\n",
              "      <td>DIS210129C00100000</td>\n",
              "      <td>2021-01-20 20:59:32</td>\n",
              "      <td>100.0</td>\n",
              "      <td>73.70</td>\n",
              "      <td>62.30</td>\n",
              "      <td>63.9</td>\n",
              "      <td>0.0</td>\n",
              "      <td>0.0</td>\n",
              "      <td>1.0</td>\n",
              "      <td>13</td>\n",
              "      <td>2.750003</td>\n",
              "      <td>True</td>\n",
              "      <td>REGULAR</td>\n",
              "      <td>USD</td>\n",
              "    </tr>\n",
              "    <tr>\n",
              "      <th>3</th>\n",
              "      <td>DIS210129C00105000</td>\n",
              "      <td>2021-01-22 20:20:43</td>\n",
              "      <td>105.0</td>\n",
              "      <td>67.56</td>\n",
              "      <td>57.35</td>\n",
              "      <td>58.9</td>\n",
              "      <td>0.0</td>\n",
              "      <td>0.0</td>\n",
              "      <td>30.0</td>\n",
              "      <td>41</td>\n",
              "      <td>2.597660</td>\n",
              "      <td>True</td>\n",
              "      <td>REGULAR</td>\n",
              "      <td>USD</td>\n",
              "    </tr>\n",
              "    <tr>\n",
              "      <th>4</th>\n",
              "      <td>DIS210129C00110000</td>\n",
              "      <td>2021-01-25 18:47:11</td>\n",
              "      <td>110.0</td>\n",
              "      <td>60.83</td>\n",
              "      <td>52.35</td>\n",
              "      <td>53.9</td>\n",
              "      <td>0.0</td>\n",
              "      <td>0.0</td>\n",
              "      <td>6.0</td>\n",
              "      <td>6</td>\n",
              "      <td>2.351567</td>\n",
              "      <td>True</td>\n",
              "      <td>REGULAR</td>\n",
              "      <td>USD</td>\n",
              "    </tr>\n",
              "  </tbody>\n",
              "</table>\n",
              "</div>"
            ],
            "text/plain": [
              "       contractSymbol       lastTradeDate  ...  contractSize  currency\n",
              "0  DIS210129C00090000 2021-01-21 20:50:01  ...       REGULAR       USD\n",
              "1  DIS210129C00095000 2021-01-20 16:07:25  ...       REGULAR       USD\n",
              "2  DIS210129C00100000 2021-01-20 20:59:32  ...       REGULAR       USD\n",
              "3  DIS210129C00105000 2021-01-22 20:20:43  ...       REGULAR       USD\n",
              "4  DIS210129C00110000 2021-01-25 18:47:11  ...       REGULAR       USD\n",
              "\n",
              "[5 rows x 14 columns]"
            ]
          },
          "metadata": {
            "tags": []
          },
          "execution_count": 116
        }
      ]
    },
    {
      "cell_type": "markdown",
      "metadata": {
        "id": "apH-BbJ3aZqK"
      },
      "source": [
        "# Streaming real-time Data"
      ]
    },
    {
      "cell_type": "code",
      "metadata": {
        "id": "NBtVXdKBbTzT"
      },
      "source": [
        "import time"
      ],
      "execution_count": 117,
      "outputs": []
    },
    {
      "cell_type": "code",
      "metadata": {
        "colab": {
          "base_uri": "https://localhost:8080/",
          "height": 244
        },
        "id": "NCItvf-VbU6t",
        "outputId": "3cba3159-97f6-4c96-d281-b5ed03f02d45"
      },
      "source": [
        "yf.download(\"EURUSD=X\", interval = '1m', period='1d').tail()"
      ],
      "execution_count": 118,
      "outputs": [
        {
          "output_type": "stream",
          "text": [
            "\r[*********************100%***********************]  1 of 1 completed\n"
          ],
          "name": "stdout"
        },
        {
          "output_type": "execute_result",
          "data": {
            "text/html": [
              "<div>\n",
              "<style scoped>\n",
              "    .dataframe tbody tr th:only-of-type {\n",
              "        vertical-align: middle;\n",
              "    }\n",
              "\n",
              "    .dataframe tbody tr th {\n",
              "        vertical-align: top;\n",
              "    }\n",
              "\n",
              "    .dataframe thead th {\n",
              "        text-align: right;\n",
              "    }\n",
              "</style>\n",
              "<table border=\"1\" class=\"dataframe\">\n",
              "  <thead>\n",
              "    <tr style=\"text-align: right;\">\n",
              "      <th></th>\n",
              "      <th>Open</th>\n",
              "      <th>High</th>\n",
              "      <th>Low</th>\n",
              "      <th>Close</th>\n",
              "      <th>Adj Close</th>\n",
              "      <th>Volume</th>\n",
              "    </tr>\n",
              "    <tr>\n",
              "      <th>Datetime</th>\n",
              "      <th></th>\n",
              "      <th></th>\n",
              "      <th></th>\n",
              "      <th></th>\n",
              "      <th></th>\n",
              "      <th></th>\n",
              "    </tr>\n",
              "  </thead>\n",
              "  <tbody>\n",
              "    <tr>\n",
              "      <th>2021-01-28 05:13:00+00:00</th>\n",
              "      <td>1.210068</td>\n",
              "      <td>1.210068</td>\n",
              "      <td>1.210068</td>\n",
              "      <td>1.210068</td>\n",
              "      <td>1.210068</td>\n",
              "      <td>0</td>\n",
              "    </tr>\n",
              "    <tr>\n",
              "      <th>2021-01-28 05:14:00+00:00</th>\n",
              "      <td>1.209775</td>\n",
              "      <td>1.209775</td>\n",
              "      <td>1.209775</td>\n",
              "      <td>1.209775</td>\n",
              "      <td>1.209775</td>\n",
              "      <td>0</td>\n",
              "    </tr>\n",
              "    <tr>\n",
              "      <th>2021-01-28 05:15:00+00:00</th>\n",
              "      <td>1.209921</td>\n",
              "      <td>1.209921</td>\n",
              "      <td>1.209921</td>\n",
              "      <td>1.209921</td>\n",
              "      <td>1.209921</td>\n",
              "      <td>0</td>\n",
              "    </tr>\n",
              "    <tr>\n",
              "      <th>2021-01-28 05:16:00+00:00</th>\n",
              "      <td>1.209921</td>\n",
              "      <td>1.209921</td>\n",
              "      <td>1.209921</td>\n",
              "      <td>1.209921</td>\n",
              "      <td>1.209921</td>\n",
              "      <td>0</td>\n",
              "    </tr>\n",
              "    <tr>\n",
              "      <th>2021-01-28 05:17:44+00:00</th>\n",
              "      <td>1.209775</td>\n",
              "      <td>1.209775</td>\n",
              "      <td>1.209775</td>\n",
              "      <td>1.209775</td>\n",
              "      <td>1.209775</td>\n",
              "      <td>0</td>\n",
              "    </tr>\n",
              "  </tbody>\n",
              "</table>\n",
              "</div>"
            ],
            "text/plain": [
              "                               Open      High  ...  Adj Close  Volume\n",
              "Datetime                                       ...                   \n",
              "2021-01-28 05:13:00+00:00  1.210068  1.210068  ...   1.210068       0\n",
              "2021-01-28 05:14:00+00:00  1.209775  1.209775  ...   1.209775       0\n",
              "2021-01-28 05:15:00+00:00  1.209921  1.209921  ...   1.209921       0\n",
              "2021-01-28 05:16:00+00:00  1.209921  1.209921  ...   1.209921       0\n",
              "2021-01-28 05:17:44+00:00  1.209775  1.209775  ...   1.209775       0\n",
              "\n",
              "[5 rows x 6 columns]"
            ]
          },
          "metadata": {
            "tags": []
          },
          "execution_count": 118
        }
      ]
    },
    {
      "cell_type": "code",
      "metadata": {
        "colab": {
          "base_uri": "https://localhost:8080/"
        },
        "id": "bO5euz5-ba9J",
        "outputId": "f3905f6e-6fe5-4c04-df98-c0d72851edc2"
      },
      "source": [
        "data = yf.download(\"EURUSD=X\", interval = '1m', period='1d').tail()\r\n",
        "print (data.index[-1] # index\r\n",
        "       , data.iloc[-1,3] # close price\r\n",
        "       )"
      ],
      "execution_count": 120,
      "outputs": [
        {
          "output_type": "stream",
          "text": [
            "\r[*********************100%***********************]  1 of 1 completed\n",
            "2021-01-28 05:18:44+00:00 1.2097749710083008\n"
          ],
          "name": "stdout"
        }
      ]
    },
    {
      "cell_type": "code",
      "metadata": {
        "colab": {
          "base_uri": "https://localhost:8080/",
          "height": 312
        },
        "id": "93hXdfWSbf7R",
        "outputId": "38d82655-65a5-41af-ce51-6143d036e635"
      },
      "source": [
        "while True:\r\n",
        "  time.sleep(60)\r\n",
        "  data = yf.download(\"EURUSD=X\", interval = '1m', period='1d').tail()\r\n",
        "  print (data.index[-1], data.iloc[-1,3])"
      ],
      "execution_count": 122,
      "outputs": [
        {
          "output_type": "stream",
          "text": [
            "\r[*********************100%***********************]  1 of 1 completed\n",
            "2021-01-28 05:21:44+00:00 1.209628701210022\n",
            "[*********************100%***********************]  1 of 1 completed\n",
            "2021-01-28 05:22:44+00:00 1.2097749710083008\n",
            "[*********************100%***********************]  1 of 1 completed\n",
            "2021-01-28 05:23:44+00:00 1.2097749710083008\n"
          ],
          "name": "stdout"
        },
        {
          "output_type": "error",
          "ename": "KeyboardInterrupt",
          "evalue": "ignored",
          "traceback": [
            "\u001b[0;31m---------------------------------------------------------------------------\u001b[0m",
            "\u001b[0;31mKeyboardInterrupt\u001b[0m                         Traceback (most recent call last)",
            "\u001b[0;32m<ipython-input-122-7968b4be9e94>\u001b[0m in \u001b[0;36m<module>\u001b[0;34m()\u001b[0m\n\u001b[1;32m      1\u001b[0m \u001b[0;32mwhile\u001b[0m \u001b[0;32mTrue\u001b[0m\u001b[0;34m:\u001b[0m\u001b[0;34m\u001b[0m\u001b[0;34m\u001b[0m\u001b[0m\n\u001b[0;32m----> 2\u001b[0;31m   \u001b[0mtime\u001b[0m\u001b[0;34m.\u001b[0m\u001b[0msleep\u001b[0m\u001b[0;34m(\u001b[0m\u001b[0;36m60\u001b[0m\u001b[0;34m)\u001b[0m\u001b[0;34m\u001b[0m\u001b[0;34m\u001b[0m\u001b[0m\n\u001b[0m\u001b[1;32m      3\u001b[0m   \u001b[0mdata\u001b[0m \u001b[0;34m=\u001b[0m \u001b[0myf\u001b[0m\u001b[0;34m.\u001b[0m\u001b[0mdownload\u001b[0m\u001b[0;34m(\u001b[0m\u001b[0;34m\"EURUSD=X\"\u001b[0m\u001b[0;34m,\u001b[0m \u001b[0minterval\u001b[0m \u001b[0;34m=\u001b[0m \u001b[0;34m'1m'\u001b[0m\u001b[0;34m,\u001b[0m \u001b[0mperiod\u001b[0m\u001b[0;34m=\u001b[0m\u001b[0;34m'1d'\u001b[0m\u001b[0;34m)\u001b[0m\u001b[0;34m.\u001b[0m\u001b[0mtail\u001b[0m\u001b[0;34m(\u001b[0m\u001b[0;34m)\u001b[0m\u001b[0;34m\u001b[0m\u001b[0;34m\u001b[0m\u001b[0m\n\u001b[1;32m      4\u001b[0m   \u001b[0mprint\u001b[0m \u001b[0;34m(\u001b[0m\u001b[0mdata\u001b[0m\u001b[0;34m.\u001b[0m\u001b[0mindex\u001b[0m\u001b[0;34m[\u001b[0m\u001b[0;34m-\u001b[0m\u001b[0;36m1\u001b[0m\u001b[0;34m]\u001b[0m\u001b[0;34m,\u001b[0m \u001b[0mdata\u001b[0m\u001b[0;34m.\u001b[0m\u001b[0miloc\u001b[0m\u001b[0;34m[\u001b[0m\u001b[0;34m-\u001b[0m\u001b[0;36m1\u001b[0m\u001b[0;34m,\u001b[0m\u001b[0;36m3\u001b[0m\u001b[0;34m]\u001b[0m\u001b[0;34m)\u001b[0m\u001b[0;34m\u001b[0m\u001b[0;34m\u001b[0m\u001b[0m\n",
            "\u001b[0;31mKeyboardInterrupt\u001b[0m: "
          ]
        }
      ]
    },
    {
      "cell_type": "code",
      "metadata": {
        "id": "SWUY8xuebsXU"
      },
      "source": [
        "!conda install ujson\r\n",
        "!pip install v20\r\n",
        "!pip install --index-url https://test.pypi.org/simple/ tpqoa"
      ],
      "execution_count": null,
      "outputs": []
    }
  ]
}